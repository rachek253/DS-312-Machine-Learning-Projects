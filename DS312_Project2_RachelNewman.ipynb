{
 "cells": [
  {
   "cell_type": "code",
   "execution_count": 63,
   "id": "d503a0e7-1356-4ac7-9fdc-32ac1e529a14",
   "metadata": {},
   "outputs": [],
   "source": [
    "#############################################################################\n",
    "# File: DS312_Project2_RachelNewman\n",
    "# Author: Rachel Newman\n",
    "# Purpose: Perform simple Linear Regression with multiple features. \n",
    "# Resources: Collaborated with Jerome Busquin for Question 2 and Question 3\n",
    "#            for Project 2. The work for Question 1 and Question 4 are my \n",
    "#            own work. \n",
    "############################################################################"
   ]
  },
  {
   "cell_type": "code",
   "execution_count": 15,
   "id": "0f18d2da-7a21-4185-a70b-4a39292f75c6",
   "metadata": {},
   "outputs": [],
   "source": [
    "# importing necessary libraries for homework\n",
    "import numpy as np\n",
    "import pandas as pd\n",
    "import matplotlib.pyplot as plt\n",
    "\n",
    "from sklearn.metrics import mean_absolute_error\n",
    "from sklearn.metrics import r2_score\n",
    "from sklearn.linear_model import LinearRegression\n",
    "from sklearn.preprocessing import StandardScaler\n",
    "from sklearn.model_selection import train_test_split"
   ]
  },
  {
   "cell_type": "code",
   "execution_count": 13,
   "id": "ddbf6151-0863-402c-b5a4-a4059a73f6c6",
   "metadata": {},
   "outputs": [
    {
     "data": {
      "text/html": [
       "<div>\n",
       "<style scoped>\n",
       "    .dataframe tbody tr th:only-of-type {\n",
       "        vertical-align: middle;\n",
       "    }\n",
       "\n",
       "    .dataframe tbody tr th {\n",
       "        vertical-align: top;\n",
       "    }\n",
       "\n",
       "    .dataframe thead th {\n",
       "        text-align: right;\n",
       "    }\n",
       "</style>\n",
       "<table border=\"1\" class=\"dataframe\">\n",
       "  <thead>\n",
       "    <tr style=\"text-align: right;\">\n",
       "      <th></th>\n",
       "      <th>MedInc</th>\n",
       "      <th>HouseAge</th>\n",
       "      <th>AveRooms</th>\n",
       "      <th>AveBedrms</th>\n",
       "      <th>Population</th>\n",
       "      <th>AveOccup</th>\n",
       "      <th>Latitude</th>\n",
       "      <th>Longitude</th>\n",
       "      <th>PRICE</th>\n",
       "    </tr>\n",
       "  </thead>\n",
       "  <tbody>\n",
       "    <tr>\n",
       "      <th>0</th>\n",
       "      <td>8.3252</td>\n",
       "      <td>41.0</td>\n",
       "      <td>6.984127</td>\n",
       "      <td>1.023810</td>\n",
       "      <td>322.0</td>\n",
       "      <td>2.555556</td>\n",
       "      <td>37.88</td>\n",
       "      <td>-122.23</td>\n",
       "      <td>4.526</td>\n",
       "    </tr>\n",
       "    <tr>\n",
       "      <th>1</th>\n",
       "      <td>8.3014</td>\n",
       "      <td>21.0</td>\n",
       "      <td>6.238137</td>\n",
       "      <td>0.971880</td>\n",
       "      <td>2401.0</td>\n",
       "      <td>2.109842</td>\n",
       "      <td>37.86</td>\n",
       "      <td>-122.22</td>\n",
       "      <td>3.585</td>\n",
       "    </tr>\n",
       "    <tr>\n",
       "      <th>2</th>\n",
       "      <td>7.2574</td>\n",
       "      <td>52.0</td>\n",
       "      <td>8.288136</td>\n",
       "      <td>1.073446</td>\n",
       "      <td>496.0</td>\n",
       "      <td>2.802260</td>\n",
       "      <td>37.85</td>\n",
       "      <td>-122.24</td>\n",
       "      <td>3.521</td>\n",
       "    </tr>\n",
       "    <tr>\n",
       "      <th>3</th>\n",
       "      <td>5.6431</td>\n",
       "      <td>52.0</td>\n",
       "      <td>5.817352</td>\n",
       "      <td>1.073059</td>\n",
       "      <td>558.0</td>\n",
       "      <td>2.547945</td>\n",
       "      <td>37.85</td>\n",
       "      <td>-122.25</td>\n",
       "      <td>3.413</td>\n",
       "    </tr>\n",
       "    <tr>\n",
       "      <th>4</th>\n",
       "      <td>3.8462</td>\n",
       "      <td>52.0</td>\n",
       "      <td>6.281853</td>\n",
       "      <td>1.081081</td>\n",
       "      <td>565.0</td>\n",
       "      <td>2.181467</td>\n",
       "      <td>37.85</td>\n",
       "      <td>-122.25</td>\n",
       "      <td>3.422</td>\n",
       "    </tr>\n",
       "  </tbody>\n",
       "</table>\n",
       "</div>"
      ],
      "text/plain": [
       "   MedInc  HouseAge  AveRooms  AveBedrms  Population  AveOccup  Latitude  \\\n",
       "0  8.3252      41.0  6.984127   1.023810       322.0  2.555556     37.88   \n",
       "1  8.3014      21.0  6.238137   0.971880      2401.0  2.109842     37.86   \n",
       "2  7.2574      52.0  8.288136   1.073446       496.0  2.802260     37.85   \n",
       "3  5.6431      52.0  5.817352   1.073059       558.0  2.547945     37.85   \n",
       "4  3.8462      52.0  6.281853   1.081081       565.0  2.181467     37.85   \n",
       "\n",
       "   Longitude  PRICE  \n",
       "0    -122.23  4.526  \n",
       "1    -122.22  3.585  \n",
       "2    -122.24  3.521  \n",
       "3    -122.25  3.413  \n",
       "4    -122.25  3.422  "
      ]
     },
     "execution_count": 13,
     "metadata": {},
     "output_type": "execute_result"
    }
   ],
   "source": [
    "## need to upload California Housing Data as a pandas dataframe\n",
    "house = pd.read_csv('/Users/rachi/OneDrive - Embry-Riddle Aeronautical University/JupyterNotebook/DS 312/Project 2/California_Housing_Data-1.csv')\n",
    "\n",
    "## viewing the first 5 entries in the data frame\n",
    "house.head()"
   ]
  },
  {
   "cell_type": "code",
   "execution_count": 19,
   "id": "1affb71f-80ff-45c4-bb29-289eb4a08eea",
   "metadata": {},
   "outputs": [
    {
     "data": {
      "text/plain": [
       "Index(['MedInc', 'HouseAge', 'AveRooms', 'AveBedrms', 'Population', 'AveOccup',\n",
       "       'Latitude', 'Longitude', 'PRICE'],\n",
       "      dtype='object')"
      ]
     },
     "execution_count": 19,
     "metadata": {},
     "output_type": "execute_result"
    }
   ],
   "source": [
    "## looking at the features/column names in the data\n",
    "house.columns"
   ]
  },
  {
   "cell_type": "code",
   "execution_count": 23,
   "id": "a4300099-e101-469e-8d12-8641f3b390ba",
   "metadata": {},
   "outputs": [
    {
     "data": {
      "text/html": [
       "<div>\n",
       "<style scoped>\n",
       "    .dataframe tbody tr th:only-of-type {\n",
       "        vertical-align: middle;\n",
       "    }\n",
       "\n",
       "    .dataframe tbody tr th {\n",
       "        vertical-align: top;\n",
       "    }\n",
       "\n",
       "    .dataframe thead th {\n",
       "        text-align: right;\n",
       "    }\n",
       "</style>\n",
       "<table border=\"1\" class=\"dataframe\">\n",
       "  <thead>\n",
       "    <tr style=\"text-align: right;\">\n",
       "      <th></th>\n",
       "      <th>MedInc</th>\n",
       "      <th>HouseAge</th>\n",
       "      <th>AveRooms</th>\n",
       "      <th>AveBedrms</th>\n",
       "      <th>Population</th>\n",
       "      <th>AveOccup</th>\n",
       "      <th>Latitude</th>\n",
       "      <th>Longitude</th>\n",
       "      <th>PRICE</th>\n",
       "    </tr>\n",
       "  </thead>\n",
       "  <tbody>\n",
       "    <tr>\n",
       "      <th>count</th>\n",
       "      <td>20640.000000</td>\n",
       "      <td>20640.000000</td>\n",
       "      <td>20640.000000</td>\n",
       "      <td>20640.000000</td>\n",
       "      <td>20640.000000</td>\n",
       "      <td>20640.000000</td>\n",
       "      <td>20640.000000</td>\n",
       "      <td>20640.000000</td>\n",
       "      <td>20640.000000</td>\n",
       "    </tr>\n",
       "    <tr>\n",
       "      <th>mean</th>\n",
       "      <td>3.870671</td>\n",
       "      <td>28.639486</td>\n",
       "      <td>5.429000</td>\n",
       "      <td>1.096675</td>\n",
       "      <td>1425.476744</td>\n",
       "      <td>3.070655</td>\n",
       "      <td>35.631861</td>\n",
       "      <td>-119.569704</td>\n",
       "      <td>2.068558</td>\n",
       "    </tr>\n",
       "    <tr>\n",
       "      <th>std</th>\n",
       "      <td>1.899822</td>\n",
       "      <td>12.585558</td>\n",
       "      <td>2.474173</td>\n",
       "      <td>0.473911</td>\n",
       "      <td>1132.462122</td>\n",
       "      <td>10.386050</td>\n",
       "      <td>2.135952</td>\n",
       "      <td>2.003532</td>\n",
       "      <td>1.153956</td>\n",
       "    </tr>\n",
       "    <tr>\n",
       "      <th>min</th>\n",
       "      <td>0.499900</td>\n",
       "      <td>1.000000</td>\n",
       "      <td>0.846154</td>\n",
       "      <td>0.333333</td>\n",
       "      <td>3.000000</td>\n",
       "      <td>0.692308</td>\n",
       "      <td>32.540000</td>\n",
       "      <td>-124.350000</td>\n",
       "      <td>0.149990</td>\n",
       "    </tr>\n",
       "    <tr>\n",
       "      <th>25%</th>\n",
       "      <td>2.563400</td>\n",
       "      <td>18.000000</td>\n",
       "      <td>4.440716</td>\n",
       "      <td>1.006079</td>\n",
       "      <td>787.000000</td>\n",
       "      <td>2.429741</td>\n",
       "      <td>33.930000</td>\n",
       "      <td>-121.800000</td>\n",
       "      <td>1.196000</td>\n",
       "    </tr>\n",
       "    <tr>\n",
       "      <th>50%</th>\n",
       "      <td>3.534800</td>\n",
       "      <td>29.000000</td>\n",
       "      <td>5.229129</td>\n",
       "      <td>1.048780</td>\n",
       "      <td>1166.000000</td>\n",
       "      <td>2.818116</td>\n",
       "      <td>34.260000</td>\n",
       "      <td>-118.490000</td>\n",
       "      <td>1.797000</td>\n",
       "    </tr>\n",
       "    <tr>\n",
       "      <th>75%</th>\n",
       "      <td>4.743250</td>\n",
       "      <td>37.000000</td>\n",
       "      <td>6.052381</td>\n",
       "      <td>1.099526</td>\n",
       "      <td>1725.000000</td>\n",
       "      <td>3.282261</td>\n",
       "      <td>37.710000</td>\n",
       "      <td>-118.010000</td>\n",
       "      <td>2.647250</td>\n",
       "    </tr>\n",
       "    <tr>\n",
       "      <th>max</th>\n",
       "      <td>15.000100</td>\n",
       "      <td>52.000000</td>\n",
       "      <td>141.909091</td>\n",
       "      <td>34.066667</td>\n",
       "      <td>35682.000000</td>\n",
       "      <td>1243.333333</td>\n",
       "      <td>41.950000</td>\n",
       "      <td>-114.310000</td>\n",
       "      <td>5.000010</td>\n",
       "    </tr>\n",
       "  </tbody>\n",
       "</table>\n",
       "</div>"
      ],
      "text/plain": [
       "             MedInc      HouseAge      AveRooms     AveBedrms    Population  \\\n",
       "count  20640.000000  20640.000000  20640.000000  20640.000000  20640.000000   \n",
       "mean       3.870671     28.639486      5.429000      1.096675   1425.476744   \n",
       "std        1.899822     12.585558      2.474173      0.473911   1132.462122   \n",
       "min        0.499900      1.000000      0.846154      0.333333      3.000000   \n",
       "25%        2.563400     18.000000      4.440716      1.006079    787.000000   \n",
       "50%        3.534800     29.000000      5.229129      1.048780   1166.000000   \n",
       "75%        4.743250     37.000000      6.052381      1.099526   1725.000000   \n",
       "max       15.000100     52.000000    141.909091     34.066667  35682.000000   \n",
       "\n",
       "           AveOccup      Latitude     Longitude         PRICE  \n",
       "count  20640.000000  20640.000000  20640.000000  20640.000000  \n",
       "mean       3.070655     35.631861   -119.569704      2.068558  \n",
       "std       10.386050      2.135952      2.003532      1.153956  \n",
       "min        0.692308     32.540000   -124.350000      0.149990  \n",
       "25%        2.429741     33.930000   -121.800000      1.196000  \n",
       "50%        2.818116     34.260000   -118.490000      1.797000  \n",
       "75%        3.282261     37.710000   -118.010000      2.647250  \n",
       "max     1243.333333     41.950000   -114.310000      5.000010  "
      ]
     },
     "execution_count": 23,
     "metadata": {},
     "output_type": "execute_result"
    }
   ],
   "source": [
    "## looking at the statistical summary of the data and determining whether there is any missing data\n",
    "house.describe()"
   ]
  },
  {
   "cell_type": "code",
   "execution_count": 29,
   "id": "1b6124eb-f43a-4789-9c50-48c16bdc9a04",
   "metadata": {},
   "outputs": [],
   "source": [
    "## splitting data into 80:20 split (80 percent for training, 20 for testing) and setting random_state = 0 so that split remains the same\n",
    "## for all of the problems and the results are repeatable on your end!\n",
    "features = house.drop('PRICE', axis = 1).values\n",
    "target = house['PRICE'].values\n",
    "\n",
    "x_train, x_test, y_train, y_test = train_test_split(features, target, test_size = 0.2, random_state = 0)"
   ]
  },
  {
   "cell_type": "code",
   "execution_count": 31,
   "id": "20ced5f8-1d57-4e6e-9073-29ef0fc28d70",
   "metadata": {},
   "outputs": [],
   "source": [
    "## Standardizing/normalizing all data\n",
    "scaler = StandardScaler()\n",
    "x_train_scaled = scaler.fit_transform(x_train)\n",
    "x_test_scaled = scaler.transform(x_test)"
   ]
  },
  {
   "cell_type": "markdown",
   "id": "8546891a-3392-4369-ad67-fc7e20d03990",
   "metadata": {},
   "source": [
    "# Question 1: Theoretical Foundations of Linear Regression"
   ]
  },
  {
   "cell_type": "markdown",
   "id": "9b180220-d414-411b-9d6a-a8d2a78eb6e3",
   "metadata": {},
   "source": [
    "Please see pdf submitted on Canvas for solution to Question 1. I wrote out the solution by hand and submitted it that way!"
   ]
  },
  {
   "cell_type": "markdown",
   "id": "cd101f85-77cd-4525-9fbe-a16b0a3138fc",
   "metadata": {},
   "source": [
    "# Question 2: Implement Simple Linear Regression Using Gradient Descent From Scratch"
   ]
  },
  {
   "cell_type": "markdown",
   "id": "e93d0c06-e56f-4e79-8832-b793188855b4",
   "metadata": {},
   "source": [
    "### Task Overview: You are given a CSV file with 9 columns. Your objective is to predict the \"PRICE\" (Median House Value), which is your target variable (y), using the other 8 columns as input features (x₁, x₂, ..., x₈). This dataset is part of the California Housing Price data. Use an 80:20 split for training and testing: the first 80% of the data will be used for training and the remaining 20% will be used as the test set."
   ]
  },
  {
   "cell_type": "markdown",
   "id": "391dd931-d51f-44b4-83c8-93af5f6cc149",
   "metadata": {},
   "source": [
    "#### 1. Manual Implementation: Create a simple linear regression model using gradient descent from scratch on the training data."
   ]
  },
  {
   "cell_type": "code",
   "execution_count": 45,
   "id": "9c5f372b-b197-43ba-bf2a-56cc7622dcfe",
   "metadata": {},
   "outputs": [],
   "source": [
    "## creating a function for manual gradient descent calculation\n",
    "\n",
    "n = 1000 # number of iterations\n",
    "alpha = 0.01 # learning rate\n",
    "\n",
    "def gradient_descent(x, y, alpha, n):\n",
    "    m, z = x.shape\n",
    "    weight = np.zeros(z) ## initializing weights (parameters) to 0\n",
    "    bias = 0 ## setting bias to 0\n",
    "    for n in range(n):\n",
    "        ## making predictions for target variable\n",
    "        y_pred = np.dot(x, weight) + bias\n",
    "        \n",
    "        ## calculating partial derivatives of w and b\n",
    "        deriv_weight = -(2/m)*np.dot(x.T, (y - y_pred))\n",
    "        deriv_bias = -(2/m)*np.sum(y - y_pred)\n",
    "\n",
    "        ## updating parameters w and b\n",
    "        weight = weight - alpha*deriv_weight\n",
    "        bias = bias - alpha*deriv_bias\n",
    "\n",
    "        ## printing progress as n increases\n",
    "        if n % 100 == 0: # updating every 100 iterations \n",
    "            mse = np.mean((y - y_pred)**2)\n",
    "            print(f'Iteration # {n}: MSE = {mse}')\n",
    "    return weight, bias"
   ]
  },
  {
   "cell_type": "code",
   "execution_count": 49,
   "id": "b381b36c-0e85-4021-a90e-79533415761f",
   "metadata": {},
   "outputs": [
    {
     "name": "stdout",
     "output_type": "stream",
     "text": [
      "Iteration # 0: MSE = 5.633623435203409\n",
      "Iteration # 100: MSE = 0.707654556695311\n",
      "Iteration # 200: MSE = 0.5953227827574167\n",
      "Iteration # 300: MSE = 0.5752836766745015\n",
      "Iteration # 400: MSE = 0.5617964918598384\n",
      "Iteration # 500: MSE = 0.5519076263504196\n",
      "Iteration # 600: MSE = 0.5446236282988052\n",
      "Iteration # 700: MSE = 0.5392480453103402\n",
      "Iteration # 800: MSE = 0.5352730428898466\n",
      "Iteration # 900: MSE = 0.5323272953496105\n",
      "The learned weights are: [ 0.83652297  0.14636836 -0.21640587  0.24153559  0.00229364 -0.03423635\n",
      " -0.68043857 -0.64926218]\n",
      "The learned bias is: 2.072498955450924\n"
     ]
    }
   ],
   "source": [
    "## training the model using the gradient descent\n",
    "\n",
    "weight, bias = gradient_descent(x_train_scaled, y_train, alpha, n)\n",
    "print(f'The learned weights are: {weight}')\n",
    "print(f'The learned bias is: {bias}')"
   ]
  },
  {
   "cell_type": "markdown",
   "id": "29ca6685-8181-4ba2-ac9c-ef2bbff74bab",
   "metadata": {},
   "source": [
    "#### 2. Prediction: Use this model to make predictions on the test set."
   ]
  },
  {
   "cell_type": "code",
   "execution_count": 55,
   "id": "93d32b91-0dc0-4f42-a456-ed42b11b84ad",
   "metadata": {},
   "outputs": [],
   "source": [
    "## making predictions on the test set\n",
    "y_pred_test = np.dot(x_test_scaled, weight) + bias"
   ]
  },
  {
   "cell_type": "markdown",
   "id": "87f47e10-c2a7-4280-bc72-d29cefb18a5d",
   "metadata": {},
   "source": [
    "#### 3. Calculate MAE: Evaluate the Mean Absolute Error (MAE) of your predictions on the test set."
   ]
  },
  {
   "cell_type": "code",
   "execution_count": 60,
   "id": "2813d3a6-c275-493b-8e32-0110e18e72ba",
   "metadata": {},
   "outputs": [
    {
     "name": "stdout",
     "output_type": "stream",
     "text": [
      "The Mean Absolute Error on the test set it: 0.5385695598072363\n"
     ]
    }
   ],
   "source": [
    "## calculating MAE manually\n",
    "mae_manual = np.mean(np.abs(y_test - y_pred_test))\n",
    "print(f'The Mean Absolute Error on the test set it: {mae_manual}')"
   ]
  },
  {
   "cell_type": "markdown",
   "id": "04a88ce8-360b-4ffd-9be2-743bf04ecc42",
   "metadata": {},
   "source": [
    "#### 4. Calculate R² Value: Compute the R² value on the training and test set."
   ]
  },
  {
   "cell_type": "code",
   "execution_count": 72,
   "id": "9062ea9b-fdf5-4870-9ce5-c356fa711638",
   "metadata": {},
   "outputs": [
    {
     "name": "stdout",
     "output_type": "stream",
     "text": [
      "The R² on the training set is 0.6038924720454227\n"
     ]
    }
   ],
   "source": [
    "## calculating R^2 for training set\n",
    "y_pred_train = np.dot(x_train_scaled, weight) + bias\n",
    "\n",
    "train_res = np.sum((y_train - y_pred_train)**2) ##calculating the residual sum of squares on training set\n",
    "train_total = np.sum((y_train - np.mean(y_train))**2) ## calculating the total sum of squares on training set\n",
    "\n",
    "train_r2 = 1 - (train_res/train_total)\n",
    "print(f'The R² on the training set is {train_r2}')"
   ]
  },
  {
   "cell_type": "code",
   "execution_count": 74,
   "id": "e6fb2e59-aadc-47cc-9cd0-b126b738121e",
   "metadata": {},
   "outputs": [
    {
     "name": "stdout",
     "output_type": "stream",
     "text": [
      "The R² on the test set is 0.586569105392173\n"
     ]
    }
   ],
   "source": [
    "## calculating R^2 for test set\n",
    "test_res = np.sum((y_test - y_pred_test)**2) ##calculating the residual sum of squares on test set\n",
    "test_total = np.sum((y_test - np.mean(y_test))**2) ## calculating the total sum of squares on test set\n",
    "\n",
    "test_r2 = 1 - (test_res/test_total)\n",
    "print(f'The R² on the test set is {test_r2}')"
   ]
  },
  {
   "cell_type": "markdown",
   "id": "d36840ce-1d52-4363-af03-284d02c027ab",
   "metadata": {},
   "source": [
    "# Question 3: Linear Regression Using Scikit-Learn"
   ]
  },
  {
   "cell_type": "markdown",
   "id": "b29ef7b2-6019-4334-b3c2-706e01cc8dc6",
   "metadata": {},
   "source": [
    "#### 1. Library Implementation: Use the Scikit-Learn library to implement a simple linear regression model on the training data."
   ]
  },
  {
   "cell_type": "code",
   "execution_count": 87,
   "id": "e72b4587-8f1c-4dab-82bb-e1119d19201a",
   "metadata": {},
   "outputs": [
    {
     "name": "stdout",
     "output_type": "stream",
     "text": [
      "The learned weights (coefficients) are: [ 0.82624793  0.1171006  -0.24891059  0.29038746 -0.00864349 -0.03056429\n",
      " -0.90042112 -0.87058566]\n",
      "The learned bias (intercept) is: 2.072498958938836\n"
     ]
    }
   ],
   "source": [
    "## using sklearn to create linear regression model on training set\n",
    "linear_regression = LinearRegression()\n",
    "## fitting the model to the training data\n",
    "linear_regression.fit(x_train_scaled, y_train)\n",
    "\n",
    "## printing out weights and bias for the model\n",
    "print(f'The learned weights (coefficients) are: {linear_regression.coef_}')\n",
    "print(f'The learned bias (intercept) is: {linear_regression.intercept_}')"
   ]
  },
  {
   "cell_type": "markdown",
   "id": "20111a07-ddc0-4725-b997-51084eabacb7",
   "metadata": {},
   "source": [
    "#### 2. Predict and Compute MAE: Use the model to predict values on the test set and calculate the MAE."
   ]
  },
  {
   "cell_type": "code",
   "execution_count": 90,
   "id": "bfe067ef-026d-43de-8721-c2621d018a4a",
   "metadata": {},
   "outputs": [],
   "source": [
    "## making predictions on both test and train and using sklearn to calculate MAE\n",
    "y_pred_train_lr = linear_regression.predict(x_train_scaled)\n",
    "y_pred_test_lr = linear_regression.predict(x_test_scaled)"
   ]
  },
  {
   "cell_type": "code",
   "execution_count": 92,
   "id": "9044a271-ca92-4b3f-9bb8-381cb28d8cce",
   "metadata": {},
   "outputs": [
    {
     "name": "stdout",
     "output_type": "stream",
     "text": [
      "The Mean Absolute Error (MAE) for the Training set is: 0.5308743544863755\n",
      "The Mean Absolute Error (MAE) for the Test set is: 0.5351261336554506\n"
     ]
    }
   ],
   "source": [
    "## calculating MAE with sklearn\n",
    "MAE_train = mean_absolute_error(y_train, y_pred_train_lr)\n",
    "print(f'The Mean Absolute Error (MAE) for the Training set is: {MAE_train}')\n",
    "\n",
    "MAE_test = mean_absolute_error(y_test, y_pred_test_lr)\n",
    "print(f'The Mean Absolute Error (MAE) for the Test set is: {MAE_test}')"
   ]
  },
  {
   "cell_type": "markdown",
   "id": "2c3355a0-53a2-4908-ac9e-f466e346a338",
   "metadata": {},
   "source": [
    "#### 3. Calculate R² Value: Compute the R² value on the training and test set."
   ]
  },
  {
   "cell_type": "code",
   "execution_count": 95,
   "id": "ce1006ef-e4ce-4cd3-a8f1-b0fbe09ee3c7",
   "metadata": {},
   "outputs": [
    {
     "name": "stdout",
     "output_type": "stream",
     "text": [
      "The R² value for the training set is: 0.6088968118672871\n",
      "The R² value for the test set is: 0.5943232652466204\n"
     ]
    }
   ],
   "source": [
    "## calculating the R² value using sklearn\n",
    "r2_train = r2_score(y_train, y_pred_train_lr)\n",
    "print(f'The R² value for the training set is: {r2_train}')\n",
    "r2_test = r2_score(y_test, y_pred_test_lr)\n",
    "print(f'The R² value for the test set is: {r2_test}')"
   ]
  },
  {
   "cell_type": "markdown",
   "id": "e6654275-e7f9-4027-b529-19e127397c44",
   "metadata": {},
   "source": [
    "# Question 4: Comparative Analysis"
   ]
  },
  {
   "cell_type": "markdown",
   "id": "3e979041-75a4-4947-8c91-b15f6357f666",
   "metadata": {},
   "source": [
    "#### 1. Compare the MAE and R² values obtained from the manual implementation (Question 2) and the scikit-learn implementation (Question 3)."
   ]
  },
  {
   "cell_type": "code",
   "execution_count": 110,
   "id": "7bd61831-989e-4dee-aed2-39c34034c05b",
   "metadata": {},
   "outputs": [
    {
     "name": "stdout",
     "output_type": "stream",
     "text": [
      "The MAE for the manual implementation is: 0.5385695598072363\n",
      "The MAE for the scikit-learn implementation is: 0.5351261336554506 \n",
      "\n",
      "The R² value for the training manual implementation is: 0.6038924720454227\n",
      "The R² value for the training scikit-learn implementation is: 0.6088968118672871 \n",
      "\n",
      "The R² value for the test manual implementation is: 0.586569105392173\n",
      "The R² value for the test scikit-learn implementation is: 0.5943232652466204\n"
     ]
    }
   ],
   "source": [
    "## comparing MAE from Q2 and Q3 for test data\n",
    "print(f'The MAE for the manual implementation is: {mae_manual}')\n",
    "print(f'The MAE for the scikit-learn implementation is: {MAE_test} \\n')\n",
    "\n",
    "## comparing R² from Q2 and Q3 for training data\n",
    "print(f'The R² value for the training manual implementation is: {train_r2}')\n",
    "print(f'The R² value for the training scikit-learn implementation is: {r2_train} \\n')\n",
    "\n",
    "## comparing R² from Q2 and Q3 for test data\n",
    "print(f'The R² value for the test manual implementation is: {test_r2}')\n",
    "print(f'The R² value for the test scikit-learn implementation is: {r2_test}')"
   ]
  },
  {
   "cell_type": "markdown",
   "id": "30256ba7-888f-4e71-a0be-5d8c20ac7c97",
   "metadata": {},
   "source": [
    "#### 2. Discuss which model achieves a lower MAE and a higher R² value, and provide reasons for these results"
   ]
  },
  {
   "cell_type": "markdown",
   "id": "64496a0a-75f9-4b34-8589-2d0543e7c09f",
   "metadata": {},
   "source": [
    "As seen above in the first part of the problem, the linear regression model that had a lower MAE is the model implemented with scikit-learn. The scikit-learn model had a MAE value of 0.5351, where as the manual implementation of gradient descent had a MAE of 0.5386. When comparing the R² values, it can be seen that the linear regression model built with scikit-learn has a higher value. The scikit-learn model had an R² of 0.5943 for the test data and the manual model had an R² of 0.5866. The reason the model built with scikit-learn has a lower MAE and a higher R² value is because the sklearn library is built to optimize using Ordinary Least Squares, whereas the gradient descent model is based off of factors such as the learning rate and the number of iterations that the model is run. The gradient descent may not converge to the optimal solution if the learning rate and number of iterations are not properly tuned. "
   ]
  }
 ],
 "metadata": {
  "kernelspec": {
   "display_name": "Python 3 (ipykernel)",
   "language": "python",
   "name": "python3"
  },
  "language_info": {
   "codemirror_mode": {
    "name": "ipython",
    "version": 3
   },
   "file_extension": ".py",
   "mimetype": "text/x-python",
   "name": "python",
   "nbconvert_exporter": "python",
   "pygments_lexer": "ipython3",
   "version": "3.12.4"
  }
 },
 "nbformat": 4,
 "nbformat_minor": 5
}
