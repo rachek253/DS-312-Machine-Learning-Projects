{
 "cells": [
  {
   "cell_type": "code",
   "execution_count": null,
   "id": "2959a443-ac55-4137-9b40-7d428ae4fc49",
   "metadata": {},
   "outputs": [],
   "source": [
    "#############################################################################\n",
    "# File: DS312_Project1_RachelNewman\n",
    "# Author: Rachel Newman\n",
    "# Purpose: Perform simple Linear Regression and calculate MAE for test data.\n",
    "# Resources: Collaborated with Jerome Busquin for majority of Project 1. We \n",
    "#            worked on Problem 2, Problem 3, and Problem 4 together, but \n",
    "#            Problem 1 and Problem 5 are my own work.\n",
    "############################################################################"
   ]
  },
  {
   "cell_type": "code",
   "execution_count": 5,
   "id": "0291b10a-0dfa-4e01-bf37-191c7beb4745",
   "metadata": {},
   "outputs": [],
   "source": [
    "import numpy as np\n",
    "import pandas as pd\n",
    "import matplotlib.pyplot as plt\n",
    "from sklearn.linear_model import LinearRegression\n",
    "from sklearn.metrics import mean_absolute_error "
   ]
  },
  {
   "cell_type": "markdown",
   "id": "49cba85e-836d-4e73-a8d8-cf289f5776ce",
   "metadata": {},
   "source": [
    "# Question 1: Theoretical Foundations of Linear Regression"
   ]
  },
  {
   "cell_type": "markdown",
   "id": "13228eb5-524f-4f69-a8a7-908c5a193686",
   "metadata": {},
   "source": [
    "Please see pdf submitted on Canvas for solution to Question 1. I wrote it out by hand and submitted it that way!"
   ]
  },
  {
   "cell_type": "markdown",
   "id": "7b60c112-886f-40b8-b137-e1f45108a4eb",
   "metadata": {},
   "source": [
    "# Question 2: Calculation Using Provided Datasets"
   ]
  },
  {
   "cell_type": "markdown",
   "id": "0a37893a-fe34-462b-a679-8e8a300f99f9",
   "metadata": {},
   "source": [
    "### You are provided with two CSV files: one for the training set and one for the test set. Each file contains two columns: \"MedInc\" (Median Income) which is your x and \"PRICE\" (Median House Value) which is your y. These datasets are part of the California Housing Price data."
   ]
  },
  {
   "cell_type": "code",
   "execution_count": 8,
   "id": "3460225b-8601-40de-b4d9-0256f3bd49f5",
   "metadata": {},
   "outputs": [
    {
     "data": {
      "text/html": [
       "<div>\n",
       "<style scoped>\n",
       "    .dataframe tbody tr th:only-of-type {\n",
       "        vertical-align: middle;\n",
       "    }\n",
       "\n",
       "    .dataframe tbody tr th {\n",
       "        vertical-align: top;\n",
       "    }\n",
       "\n",
       "    .dataframe thead th {\n",
       "        text-align: right;\n",
       "    }\n",
       "</style>\n",
       "<table border=\"1\" class=\"dataframe\">\n",
       "  <thead>\n",
       "    <tr style=\"text-align: right;\">\n",
       "      <th></th>\n",
       "      <th>MedInc</th>\n",
       "      <th>PRICE</th>\n",
       "    </tr>\n",
       "  </thead>\n",
       "  <tbody>\n",
       "    <tr>\n",
       "      <th>0</th>\n",
       "      <td>8.3252</td>\n",
       "      <td>4.526</td>\n",
       "    </tr>\n",
       "    <tr>\n",
       "      <th>1</th>\n",
       "      <td>8.3014</td>\n",
       "      <td>3.585</td>\n",
       "    </tr>\n",
       "    <tr>\n",
       "      <th>2</th>\n",
       "      <td>7.2574</td>\n",
       "      <td>3.521</td>\n",
       "    </tr>\n",
       "    <tr>\n",
       "      <th>3</th>\n",
       "      <td>5.6431</td>\n",
       "      <td>3.413</td>\n",
       "    </tr>\n",
       "    <tr>\n",
       "      <th>4</th>\n",
       "      <td>3.8462</td>\n",
       "      <td>3.422</td>\n",
       "    </tr>\n",
       "    <tr>\n",
       "      <th>5</th>\n",
       "      <td>4.0368</td>\n",
       "      <td>2.697</td>\n",
       "    </tr>\n",
       "    <tr>\n",
       "      <th>6</th>\n",
       "      <td>3.6591</td>\n",
       "      <td>2.992</td>\n",
       "    </tr>\n",
       "    <tr>\n",
       "      <th>7</th>\n",
       "      <td>3.1200</td>\n",
       "      <td>2.414</td>\n",
       "    </tr>\n",
       "    <tr>\n",
       "      <th>8</th>\n",
       "      <td>2.0804</td>\n",
       "      <td>2.267</td>\n",
       "    </tr>\n",
       "    <tr>\n",
       "      <th>9</th>\n",
       "      <td>3.6912</td>\n",
       "      <td>2.611</td>\n",
       "    </tr>\n",
       "  </tbody>\n",
       "</table>\n",
       "</div>"
      ],
      "text/plain": [
       "   MedInc  PRICE\n",
       "0  8.3252  4.526\n",
       "1  8.3014  3.585\n",
       "2  7.2574  3.521\n",
       "3  5.6431  3.413\n",
       "4  3.8462  3.422\n",
       "5  4.0368  2.697\n",
       "6  3.6591  2.992\n",
       "7  3.1200  2.414\n",
       "8  2.0804  2.267\n",
       "9  3.6912  2.611"
      ]
     },
     "execution_count": 8,
     "metadata": {},
     "output_type": "execute_result"
    }
   ],
   "source": [
    "## need to upload training and testing data as two pandas dataframes\n",
    "train = pd.read_csv('/Users/rachi/OneDrive - Embry-Riddle Aeronautical University/JupyterNotebook/DS 312/Project 1/Training_Set.csv')\n",
    "\n",
    "## looking at the first 10 entries in the dataframe\n",
    "train.head(10)"
   ]
  },
  {
   "cell_type": "code",
   "execution_count": 9,
   "id": "09c6bc0a-c4cd-4a95-9b73-8036bf04abad",
   "metadata": {},
   "outputs": [
    {
     "data": {
      "text/html": [
       "<div>\n",
       "<style scoped>\n",
       "    .dataframe tbody tr th:only-of-type {\n",
       "        vertical-align: middle;\n",
       "    }\n",
       "\n",
       "    .dataframe tbody tr th {\n",
       "        vertical-align: top;\n",
       "    }\n",
       "\n",
       "    .dataframe thead th {\n",
       "        text-align: right;\n",
       "    }\n",
       "</style>\n",
       "<table border=\"1\" class=\"dataframe\">\n",
       "  <thead>\n",
       "    <tr style=\"text-align: right;\">\n",
       "      <th></th>\n",
       "      <th>MedInc</th>\n",
       "      <th>PRICE</th>\n",
       "    </tr>\n",
       "  </thead>\n",
       "  <tbody>\n",
       "    <tr>\n",
       "      <th>count</th>\n",
       "      <td>20635.000000</td>\n",
       "      <td>20635.000000</td>\n",
       "    </tr>\n",
       "    <tr>\n",
       "      <th>mean</th>\n",
       "      <td>3.871121</td>\n",
       "      <td>2.068855</td>\n",
       "    </tr>\n",
       "    <tr>\n",
       "      <th>std</th>\n",
       "      <td>1.899822</td>\n",
       "      <td>1.153938</td>\n",
       "    </tr>\n",
       "    <tr>\n",
       "      <th>min</th>\n",
       "      <td>0.499900</td>\n",
       "      <td>0.149990</td>\n",
       "    </tr>\n",
       "    <tr>\n",
       "      <th>25%</th>\n",
       "      <td>2.564300</td>\n",
       "      <td>1.197500</td>\n",
       "    </tr>\n",
       "    <tr>\n",
       "      <th>50%</th>\n",
       "      <td>3.535200</td>\n",
       "      <td>1.797000</td>\n",
       "    </tr>\n",
       "    <tr>\n",
       "      <th>75%</th>\n",
       "      <td>4.743700</td>\n",
       "      <td>2.648500</td>\n",
       "    </tr>\n",
       "    <tr>\n",
       "      <th>max</th>\n",
       "      <td>15.000100</td>\n",
       "      <td>5.000010</td>\n",
       "    </tr>\n",
       "  </tbody>\n",
       "</table>\n",
       "</div>"
      ],
      "text/plain": [
       "             MedInc         PRICE\n",
       "count  20635.000000  20635.000000\n",
       "mean       3.871121      2.068855\n",
       "std        1.899822      1.153938\n",
       "min        0.499900      0.149990\n",
       "25%        2.564300      1.197500\n",
       "50%        3.535200      1.797000\n",
       "75%        4.743700      2.648500\n",
       "max       15.000100      5.000010"
      ]
     },
     "execution_count": 9,
     "metadata": {},
     "output_type": "execute_result"
    }
   ],
   "source": [
    "## looking at summary of data \n",
    "train.describe()"
   ]
  },
  {
   "cell_type": "code",
   "execution_count": 22,
   "id": "08ff96bb-9120-45a6-a084-54c9db410ab1",
   "metadata": {},
   "outputs": [
    {
     "data": {
      "text/html": [
       "<div>\n",
       "<style scoped>\n",
       "    .dataframe tbody tr th:only-of-type {\n",
       "        vertical-align: middle;\n",
       "    }\n",
       "\n",
       "    .dataframe tbody tr th {\n",
       "        vertical-align: top;\n",
       "    }\n",
       "\n",
       "    .dataframe thead th {\n",
       "        text-align: right;\n",
       "    }\n",
       "</style>\n",
       "<table border=\"1\" class=\"dataframe\">\n",
       "  <thead>\n",
       "    <tr style=\"text-align: right;\">\n",
       "      <th></th>\n",
       "      <th>MedInc</th>\n",
       "      <th>PRICE</th>\n",
       "    </tr>\n",
       "  </thead>\n",
       "  <tbody>\n",
       "    <tr>\n",
       "      <th>0</th>\n",
       "      <td>1.5603</td>\n",
       "      <td>0.781</td>\n",
       "    </tr>\n",
       "    <tr>\n",
       "      <th>1</th>\n",
       "      <td>2.5568</td>\n",
       "      <td>0.771</td>\n",
       "    </tr>\n",
       "    <tr>\n",
       "      <th>2</th>\n",
       "      <td>1.7000</td>\n",
       "      <td>0.923</td>\n",
       "    </tr>\n",
       "    <tr>\n",
       "      <th>3</th>\n",
       "      <td>1.8672</td>\n",
       "      <td>0.847</td>\n",
       "    </tr>\n",
       "    <tr>\n",
       "      <th>4</th>\n",
       "      <td>2.3886</td>\n",
       "      <td>0.894</td>\n",
       "    </tr>\n",
       "  </tbody>\n",
       "</table>\n",
       "</div>"
      ],
      "text/plain": [
       "   MedInc  PRICE\n",
       "0  1.5603  0.781\n",
       "1  2.5568  0.771\n",
       "2  1.7000  0.923\n",
       "3  1.8672  0.847\n",
       "4  2.3886  0.894"
      ]
     },
     "execution_count": 22,
     "metadata": {},
     "output_type": "execute_result"
    }
   ],
   "source": [
    "## uploading the testing set \n",
    "test = pd.read_csv('/Users/rachi/OneDrive - Embry-Riddle Aeronautical University/JupyterNotebook/DS 312/Project 1/Test_Set.csv')\n",
    "test.head()"
   ]
  },
  {
   "cell_type": "code",
   "execution_count": 24,
   "id": "4e1719cb-ef2c-4e09-9891-64441162574c",
   "metadata": {},
   "outputs": [
    {
     "data": {
      "text/html": [
       "<div>\n",
       "<style scoped>\n",
       "    .dataframe tbody tr th:only-of-type {\n",
       "        vertical-align: middle;\n",
       "    }\n",
       "\n",
       "    .dataframe tbody tr th {\n",
       "        vertical-align: top;\n",
       "    }\n",
       "\n",
       "    .dataframe thead th {\n",
       "        text-align: right;\n",
       "    }\n",
       "</style>\n",
       "<table border=\"1\" class=\"dataframe\">\n",
       "  <thead>\n",
       "    <tr style=\"text-align: right;\">\n",
       "      <th></th>\n",
       "      <th>MedInc</th>\n",
       "      <th>PRICE</th>\n",
       "    </tr>\n",
       "  </thead>\n",
       "  <tbody>\n",
       "    <tr>\n",
       "      <th>count</th>\n",
       "      <td>5.000000</td>\n",
       "      <td>5.000000</td>\n",
       "    </tr>\n",
       "    <tr>\n",
       "      <th>mean</th>\n",
       "      <td>2.014580</td>\n",
       "      <td>0.843200</td>\n",
       "    </tr>\n",
       "    <tr>\n",
       "      <th>std</th>\n",
       "      <td>0.436161</td>\n",
       "      <td>0.067165</td>\n",
       "    </tr>\n",
       "    <tr>\n",
       "      <th>min</th>\n",
       "      <td>1.560300</td>\n",
       "      <td>0.771000</td>\n",
       "    </tr>\n",
       "    <tr>\n",
       "      <th>25%</th>\n",
       "      <td>1.700000</td>\n",
       "      <td>0.781000</td>\n",
       "    </tr>\n",
       "    <tr>\n",
       "      <th>50%</th>\n",
       "      <td>1.867200</td>\n",
       "      <td>0.847000</td>\n",
       "    </tr>\n",
       "    <tr>\n",
       "      <th>75%</th>\n",
       "      <td>2.388600</td>\n",
       "      <td>0.894000</td>\n",
       "    </tr>\n",
       "    <tr>\n",
       "      <th>max</th>\n",
       "      <td>2.556800</td>\n",
       "      <td>0.923000</td>\n",
       "    </tr>\n",
       "  </tbody>\n",
       "</table>\n",
       "</div>"
      ],
      "text/plain": [
       "         MedInc     PRICE\n",
       "count  5.000000  5.000000\n",
       "mean   2.014580  0.843200\n",
       "std    0.436161  0.067165\n",
       "min    1.560300  0.771000\n",
       "25%    1.700000  0.781000\n",
       "50%    1.867200  0.847000\n",
       "75%    2.388600  0.894000\n",
       "max    2.556800  0.923000"
      ]
     },
     "execution_count": 24,
     "metadata": {},
     "output_type": "execute_result"
    }
   ],
   "source": [
    "## understanding the test data\n",
    "test.describe()"
   ]
  },
  {
   "cell_type": "markdown",
   "id": "dc6e6357-9018-4642-b286-4a51aeb1206e",
   "metadata": {},
   "source": [
    "#### 1. Calculating Parameters: Using the training set, calculate b bar and m bar using the formulas derived in Question 1."
   ]
  },
  {
   "cell_type": "code",
   "execution_count": null,
   "id": "398eeb76-eafc-44c8-86f6-d733c723cc6b",
   "metadata": {},
   "outputs": [],
   "source": [
    "## I am not sure how to calculate b_bar or m_bar."
   ]
  },
  {
   "cell_type": "code",
   "execution_count": 111,
   "id": "ee58980c-4d6e-45d1-9ff9-bc384cd35d6a",
   "metadata": {},
   "outputs": [],
   "source": [
    "# extracting the x (MedInc) and y (Price) from the training dataset\n",
    "x_train = train['MedInc']\n",
    "y_train = train['PRICE']\n",
    "\n",
    "# extracting the x (MedInc) and y (Price) from the testing dataset\n",
    "x_test = test['MedInc']\n",
    "y_test = test['PRICE']"
   ]
  },
  {
   "cell_type": "code",
   "execution_count": 122,
   "id": "da9f2b95-099e-4005-b967-4c70a8463e2b",
   "metadata": {},
   "outputs": [],
   "source": [
    "## number of data points\n",
    "N = len(x_train)\n",
    "\n",
    "## calculations for 𝑥̅ , 𝑦̅ , 𝑥𝑦̅̅̅ , and 𝑥2̅̅̅  \n",
    "x_bar = (1/N)*np.sum(x_train)\n",
    "y_bar = (1/N)*np.sum(y_train)\n",
    "xy_bar = (1/N)*np.sum(x_train*y_train)\n",
    "x_square_bar = (1/N)*np.sum(x_train**2)"
   ]
  },
  {
   "cell_type": "code",
   "execution_count": 124,
   "id": "6c7f27e1-56df-4654-b731-2d6f7b455a7b",
   "metadata": {},
   "outputs": [],
   "source": [
    "## calculating the slope (𝑚̂)\n",
    "m_hat = (xy_bar - (x_bar*y_bar))/(x_square_bar - (x_bar**2))"
   ]
  },
  {
   "cell_type": "code",
   "execution_count": 132,
   "id": "24c7c232-dcd5-40b2-9d68-d9bf84850eaa",
   "metadata": {},
   "outputs": [],
   "source": [
    "## calculating the intercept (𝑏̂)\n",
    "b_hat = y_bar - (m_hat*x_bar)"
   ]
  },
  {
   "cell_type": "code",
   "execution_count": 130,
   "id": "e2ca584f-c338-4892-a3a8-330af6882194",
   "metadata": {},
   "outputs": [
    {
     "name": "stdout",
     "output_type": "stream",
     "text": [
      "Slope(𝑚̂): 0.4178869556191133\n",
      "Intercept(𝑏̂): 0.4511642181500659\n"
     ]
    }
   ],
   "source": [
    "print(f'Slope(𝑚̂): {m_hat}')\n",
    "print(f'Intercept(𝑏̂): {b_hat}')"
   ]
  },
  {
   "cell_type": "markdown",
   "id": "546f3a6e-a48c-4ed5-ae7e-03369dacd350",
   "metadata": {},
   "source": [
    "#### 2. Predictions and MAE: Use the computed values of 𝑏̂ and 𝑚̂ to make predictions on the test set to calculate the Mean Absolute Error (MAE) between the predicted and actual values."
   ]
  },
  {
   "cell_type": "code",
   "execution_count": 117,
   "id": "956afddf-5be1-4d23-9987-d7057035a6fb",
   "metadata": {},
   "outputs": [
    {
     "name": "stdout",
     "output_type": "stream",
     "text": [
      "The predicted y-values for the test set are: 0    1.103193\n",
      "1    1.519618\n",
      "2    1.161572\n",
      "3    1.231443\n",
      "4    1.449329\n",
      "Name: MedInc, dtype: float64\n"
     ]
    }
   ],
   "source": [
    "## making predictions on the test set using the linear model\n",
    "y_pred = (m_hat*x_test) + b_hat\n",
    "print(f'The predicted y-values for the test set are: {y_pred}')"
   ]
  },
  {
   "cell_type": "code",
   "execution_count": 119,
   "id": "fccbbd62-d601-4726-931d-2ec65885e2d0",
   "metadata": {},
   "outputs": [
    {
     "name": "stdout",
     "output_type": "stream",
     "text": [
      "Mean Absolute Error (MAE) is: 0.44983092120121915\n"
     ]
    }
   ],
   "source": [
    "## calculating the MAE\n",
    "mae = np.mean(np.abs(y_test - y_pred))\n",
    "print(f'Mean Absolute Error (MAE) is: {mae}')"
   ]
  },
  {
   "cell_type": "markdown",
   "id": "d86be8a1-4ae6-47f5-b4de-dd3bd9280544",
   "metadata": {},
   "source": [
    "# Question 3: Implement Simple Linear Regression using Gradient Descent from Scratch"
   ]
  },
  {
   "cell_type": "markdown",
   "id": "28db0696-66ea-4764-a539-a420e793c142",
   "metadata": {},
   "source": [
    "#### 1. Manual Implementation: Implement a simple linear regression model using gradient descent from scratch using the training data. Use this model to make predictions on the test data."
   ]
  },
  {
   "cell_type": "code",
   "execution_count": 75,
   "id": "89833ba8-dec6-4281-8894-67ede5be6231",
   "metadata": {},
   "outputs": [],
   "source": [
    "## extracting feature (x) and target (y) from dataset\n",
    "x_Train = train['MedInc']\n",
    "y_Train = train['PRICE']\n",
    "x_Test = test['MedInc']\n",
    "y_Test = test['PRICE']"
   ]
  },
  {
   "cell_type": "code",
   "execution_count": 59,
   "id": "69e9e16e-a582-4ad9-93a0-832365c945dd",
   "metadata": {},
   "outputs": [],
   "source": [
    "n = 1000 ## number of iterations for model"
   ]
  },
  {
   "cell_type": "code",
   "execution_count": 93,
   "id": "febb5e5e-5b61-4771-aa4d-84b8f601a71c",
   "metadata": {},
   "outputs": [
    {
     "name": "stdout",
     "output_type": "stream",
     "text": [
      "The predicted y_values for the test data are: 0    1.097435\n",
      "1    1.515655\n",
      "2    1.156066\n",
      "3    1.226238\n",
      "4    1.445064\n",
      "Name: MedInc, dtype: float64\n"
     ]
    }
   ],
   "source": [
    "## initializing parameters needed for Gradient Descent\n",
    "\n",
    "m = 0 ## initial slope\n",
    "b = 0 ## initial intercept\n",
    "alpha = 0.01 ## learning rate for the model \n",
    "N = len(x_Train)\n",
    "\n",
    "for n in range(n):\n",
    "    ## calculating predictions with current m and b\n",
    "    y_preds_train = m*x_Train + b\n",
    "    ## calculating partial derivatives of m and b\n",
    "    deriv_m = -(2/N)*np.sum(x_Train*(y_Train - y_preds_train)) ## derivative with respect to m\n",
    "    deriv_b = -(2/N)*np.sum(y_Train - y_preds_train) ## derivative with respect to b\n",
    "    ## updating m and b using gradient descent\n",
    "    m = m - (alpha*deriv_m)\n",
    "    b = b - (alpha*deriv_b)\n",
    "\n",
    "## use learned parameters to make predictions on test data\n",
    "y_preds_test = m*x_Test + b\n",
    "\n",
    "print(f'The predicted y_values for the test data are: {y_preds_test}')"
   ]
  },
  {
   "cell_type": "code",
   "execution_count": 95,
   "id": "aa9b2095-953f-4514-a22d-04ec4630204a",
   "metadata": {},
   "outputs": [
    {
     "name": "stdout",
     "output_type": "stream",
     "text": [
      "The actual y_values for the test data are: 0    0.781\n",
      "1    0.771\n",
      "2    0.923\n",
      "3    0.847\n",
      "4    0.894\n",
      "Name: PRICE, dtype: float64\n"
     ]
    }
   ],
   "source": [
    "## actual values of test data\n",
    "print(f'The actual y_values for the test data are: {y_Test}')"
   ]
  },
  {
   "cell_type": "markdown",
   "id": "f61d71c5-e8eb-46f0-83d4-cbeb85170074",
   "metadata": {},
   "source": [
    "#### 2. Calculate MAE: Compute the Mean Absolute Error (MAE) of your predictions on the test set."
   ]
  },
  {
   "cell_type": "code",
   "execution_count": 102,
   "id": "30f0e122-15be-4103-8d0d-648bae119771",
   "metadata": {},
   "outputs": [
    {
     "name": "stdout",
     "output_type": "stream",
     "text": [
      "The MAE on the test set is: 0.44489156606324853\n"
     ]
    }
   ],
   "source": [
    "## calculating the MAE for the test data manually\n",
    "MAE = np.mean(np.abs(y_Test - y_preds_test))\n",
    "print(f'The MAE on the test set is: {MAE}')"
   ]
  },
  {
   "cell_type": "markdown",
   "id": "a1104601-9872-49de-8d65-b9cbf74075ac",
   "metadata": {},
   "source": [
    "# Question 4: Linear Regression Using Scikit-Learn"
   ]
  },
  {
   "cell_type": "markdown",
   "id": "031e8118-e354-437d-99fa-c0d8d879968a",
   "metadata": {},
   "source": [
    "#### 1. Library Implementation: Implement a simple linear regression model using the scikit-learn library on the training set."
   ]
  },
  {
   "cell_type": "code",
   "execution_count": 28,
   "id": "da7a22a1-272e-4aec-b768-2d9fb66fe25d",
   "metadata": {},
   "outputs": [],
   "source": [
    "## extracting the features from the train and test sets\n",
    "X_train = train[['MedInc']] # feature for predictions\n",
    "y_train = train['PRICE'] # target variable for train set\n",
    "\n",
    "X_test = test[['MedInc']] # test feature\n",
    "y_test = test['PRICE'] # test target variable"
   ]
  },
  {
   "cell_type": "code",
   "execution_count": 30,
   "id": "1d3a0e6d-72c9-4949-8c58-766241863f87",
   "metadata": {},
   "outputs": [
    {
     "data": {
      "text/html": [
       "<style>#sk-container-id-1 {\n",
       "  /* Definition of color scheme common for light and dark mode */\n",
       "  --sklearn-color-text: black;\n",
       "  --sklearn-color-line: gray;\n",
       "  /* Definition of color scheme for unfitted estimators */\n",
       "  --sklearn-color-unfitted-level-0: #fff5e6;\n",
       "  --sklearn-color-unfitted-level-1: #f6e4d2;\n",
       "  --sklearn-color-unfitted-level-2: #ffe0b3;\n",
       "  --sklearn-color-unfitted-level-3: chocolate;\n",
       "  /* Definition of color scheme for fitted estimators */\n",
       "  --sklearn-color-fitted-level-0: #f0f8ff;\n",
       "  --sklearn-color-fitted-level-1: #d4ebff;\n",
       "  --sklearn-color-fitted-level-2: #b3dbfd;\n",
       "  --sklearn-color-fitted-level-3: cornflowerblue;\n",
       "\n",
       "  /* Specific color for light theme */\n",
       "  --sklearn-color-text-on-default-background: var(--sg-text-color, var(--theme-code-foreground, var(--jp-content-font-color1, black)));\n",
       "  --sklearn-color-background: var(--sg-background-color, var(--theme-background, var(--jp-layout-color0, white)));\n",
       "  --sklearn-color-border-box: var(--sg-text-color, var(--theme-code-foreground, var(--jp-content-font-color1, black)));\n",
       "  --sklearn-color-icon: #696969;\n",
       "\n",
       "  @media (prefers-color-scheme: dark) {\n",
       "    /* Redefinition of color scheme for dark theme */\n",
       "    --sklearn-color-text-on-default-background: var(--sg-text-color, var(--theme-code-foreground, var(--jp-content-font-color1, white)));\n",
       "    --sklearn-color-background: var(--sg-background-color, var(--theme-background, var(--jp-layout-color0, #111)));\n",
       "    --sklearn-color-border-box: var(--sg-text-color, var(--theme-code-foreground, var(--jp-content-font-color1, white)));\n",
       "    --sklearn-color-icon: #878787;\n",
       "  }\n",
       "}\n",
       "\n",
       "#sk-container-id-1 {\n",
       "  color: var(--sklearn-color-text);\n",
       "}\n",
       "\n",
       "#sk-container-id-1 pre {\n",
       "  padding: 0;\n",
       "}\n",
       "\n",
       "#sk-container-id-1 input.sk-hidden--visually {\n",
       "  border: 0;\n",
       "  clip: rect(1px 1px 1px 1px);\n",
       "  clip: rect(1px, 1px, 1px, 1px);\n",
       "  height: 1px;\n",
       "  margin: -1px;\n",
       "  overflow: hidden;\n",
       "  padding: 0;\n",
       "  position: absolute;\n",
       "  width: 1px;\n",
       "}\n",
       "\n",
       "#sk-container-id-1 div.sk-dashed-wrapped {\n",
       "  border: 1px dashed var(--sklearn-color-line);\n",
       "  margin: 0 0.4em 0.5em 0.4em;\n",
       "  box-sizing: border-box;\n",
       "  padding-bottom: 0.4em;\n",
       "  background-color: var(--sklearn-color-background);\n",
       "}\n",
       "\n",
       "#sk-container-id-1 div.sk-container {\n",
       "  /* jupyter's `normalize.less` sets `[hidden] { display: none; }`\n",
       "     but bootstrap.min.css set `[hidden] { display: none !important; }`\n",
       "     so we also need the `!important` here to be able to override the\n",
       "     default hidden behavior on the sphinx rendered scikit-learn.org.\n",
       "     See: https://github.com/scikit-learn/scikit-learn/issues/21755 */\n",
       "  display: inline-block !important;\n",
       "  position: relative;\n",
       "}\n",
       "\n",
       "#sk-container-id-1 div.sk-text-repr-fallback {\n",
       "  display: none;\n",
       "}\n",
       "\n",
       "div.sk-parallel-item,\n",
       "div.sk-serial,\n",
       "div.sk-item {\n",
       "  /* draw centered vertical line to link estimators */\n",
       "  background-image: linear-gradient(var(--sklearn-color-text-on-default-background), var(--sklearn-color-text-on-default-background));\n",
       "  background-size: 2px 100%;\n",
       "  background-repeat: no-repeat;\n",
       "  background-position: center center;\n",
       "}\n",
       "\n",
       "/* Parallel-specific style estimator block */\n",
       "\n",
       "#sk-container-id-1 div.sk-parallel-item::after {\n",
       "  content: \"\";\n",
       "  width: 100%;\n",
       "  border-bottom: 2px solid var(--sklearn-color-text-on-default-background);\n",
       "  flex-grow: 1;\n",
       "}\n",
       "\n",
       "#sk-container-id-1 div.sk-parallel {\n",
       "  display: flex;\n",
       "  align-items: stretch;\n",
       "  justify-content: center;\n",
       "  background-color: var(--sklearn-color-background);\n",
       "  position: relative;\n",
       "}\n",
       "\n",
       "#sk-container-id-1 div.sk-parallel-item {\n",
       "  display: flex;\n",
       "  flex-direction: column;\n",
       "}\n",
       "\n",
       "#sk-container-id-1 div.sk-parallel-item:first-child::after {\n",
       "  align-self: flex-end;\n",
       "  width: 50%;\n",
       "}\n",
       "\n",
       "#sk-container-id-1 div.sk-parallel-item:last-child::after {\n",
       "  align-self: flex-start;\n",
       "  width: 50%;\n",
       "}\n",
       "\n",
       "#sk-container-id-1 div.sk-parallel-item:only-child::after {\n",
       "  width: 0;\n",
       "}\n",
       "\n",
       "/* Serial-specific style estimator block */\n",
       "\n",
       "#sk-container-id-1 div.sk-serial {\n",
       "  display: flex;\n",
       "  flex-direction: column;\n",
       "  align-items: center;\n",
       "  background-color: var(--sklearn-color-background);\n",
       "  padding-right: 1em;\n",
       "  padding-left: 1em;\n",
       "}\n",
       "\n",
       "\n",
       "/* Toggleable style: style used for estimator/Pipeline/ColumnTransformer box that is\n",
       "clickable and can be expanded/collapsed.\n",
       "- Pipeline and ColumnTransformer use this feature and define the default style\n",
       "- Estimators will overwrite some part of the style using the `sk-estimator` class\n",
       "*/\n",
       "\n",
       "/* Pipeline and ColumnTransformer style (default) */\n",
       "\n",
       "#sk-container-id-1 div.sk-toggleable {\n",
       "  /* Default theme specific background. It is overwritten whether we have a\n",
       "  specific estimator or a Pipeline/ColumnTransformer */\n",
       "  background-color: var(--sklearn-color-background);\n",
       "}\n",
       "\n",
       "/* Toggleable label */\n",
       "#sk-container-id-1 label.sk-toggleable__label {\n",
       "  cursor: pointer;\n",
       "  display: block;\n",
       "  width: 100%;\n",
       "  margin-bottom: 0;\n",
       "  padding: 0.5em;\n",
       "  box-sizing: border-box;\n",
       "  text-align: center;\n",
       "}\n",
       "\n",
       "#sk-container-id-1 label.sk-toggleable__label-arrow:before {\n",
       "  /* Arrow on the left of the label */\n",
       "  content: \"▸\";\n",
       "  float: left;\n",
       "  margin-right: 0.25em;\n",
       "  color: var(--sklearn-color-icon);\n",
       "}\n",
       "\n",
       "#sk-container-id-1 label.sk-toggleable__label-arrow:hover:before {\n",
       "  color: var(--sklearn-color-text);\n",
       "}\n",
       "\n",
       "/* Toggleable content - dropdown */\n",
       "\n",
       "#sk-container-id-1 div.sk-toggleable__content {\n",
       "  max-height: 0;\n",
       "  max-width: 0;\n",
       "  overflow: hidden;\n",
       "  text-align: left;\n",
       "  /* unfitted */\n",
       "  background-color: var(--sklearn-color-unfitted-level-0);\n",
       "}\n",
       "\n",
       "#sk-container-id-1 div.sk-toggleable__content.fitted {\n",
       "  /* fitted */\n",
       "  background-color: var(--sklearn-color-fitted-level-0);\n",
       "}\n",
       "\n",
       "#sk-container-id-1 div.sk-toggleable__content pre {\n",
       "  margin: 0.2em;\n",
       "  border-radius: 0.25em;\n",
       "  color: var(--sklearn-color-text);\n",
       "  /* unfitted */\n",
       "  background-color: var(--sklearn-color-unfitted-level-0);\n",
       "}\n",
       "\n",
       "#sk-container-id-1 div.sk-toggleable__content.fitted pre {\n",
       "  /* unfitted */\n",
       "  background-color: var(--sklearn-color-fitted-level-0);\n",
       "}\n",
       "\n",
       "#sk-container-id-1 input.sk-toggleable__control:checked~div.sk-toggleable__content {\n",
       "  /* Expand drop-down */\n",
       "  max-height: 200px;\n",
       "  max-width: 100%;\n",
       "  overflow: auto;\n",
       "}\n",
       "\n",
       "#sk-container-id-1 input.sk-toggleable__control:checked~label.sk-toggleable__label-arrow:before {\n",
       "  content: \"▾\";\n",
       "}\n",
       "\n",
       "/* Pipeline/ColumnTransformer-specific style */\n",
       "\n",
       "#sk-container-id-1 div.sk-label input.sk-toggleable__control:checked~label.sk-toggleable__label {\n",
       "  color: var(--sklearn-color-text);\n",
       "  background-color: var(--sklearn-color-unfitted-level-2);\n",
       "}\n",
       "\n",
       "#sk-container-id-1 div.sk-label.fitted input.sk-toggleable__control:checked~label.sk-toggleable__label {\n",
       "  background-color: var(--sklearn-color-fitted-level-2);\n",
       "}\n",
       "\n",
       "/* Estimator-specific style */\n",
       "\n",
       "/* Colorize estimator box */\n",
       "#sk-container-id-1 div.sk-estimator input.sk-toggleable__control:checked~label.sk-toggleable__label {\n",
       "  /* unfitted */\n",
       "  background-color: var(--sklearn-color-unfitted-level-2);\n",
       "}\n",
       "\n",
       "#sk-container-id-1 div.sk-estimator.fitted input.sk-toggleable__control:checked~label.sk-toggleable__label {\n",
       "  /* fitted */\n",
       "  background-color: var(--sklearn-color-fitted-level-2);\n",
       "}\n",
       "\n",
       "#sk-container-id-1 div.sk-label label.sk-toggleable__label,\n",
       "#sk-container-id-1 div.sk-label label {\n",
       "  /* The background is the default theme color */\n",
       "  color: var(--sklearn-color-text-on-default-background);\n",
       "}\n",
       "\n",
       "/* On hover, darken the color of the background */\n",
       "#sk-container-id-1 div.sk-label:hover label.sk-toggleable__label {\n",
       "  color: var(--sklearn-color-text);\n",
       "  background-color: var(--sklearn-color-unfitted-level-2);\n",
       "}\n",
       "\n",
       "/* Label box, darken color on hover, fitted */\n",
       "#sk-container-id-1 div.sk-label.fitted:hover label.sk-toggleable__label.fitted {\n",
       "  color: var(--sklearn-color-text);\n",
       "  background-color: var(--sklearn-color-fitted-level-2);\n",
       "}\n",
       "\n",
       "/* Estimator label */\n",
       "\n",
       "#sk-container-id-1 div.sk-label label {\n",
       "  font-family: monospace;\n",
       "  font-weight: bold;\n",
       "  display: inline-block;\n",
       "  line-height: 1.2em;\n",
       "}\n",
       "\n",
       "#sk-container-id-1 div.sk-label-container {\n",
       "  text-align: center;\n",
       "}\n",
       "\n",
       "/* Estimator-specific */\n",
       "#sk-container-id-1 div.sk-estimator {\n",
       "  font-family: monospace;\n",
       "  border: 1px dotted var(--sklearn-color-border-box);\n",
       "  border-radius: 0.25em;\n",
       "  box-sizing: border-box;\n",
       "  margin-bottom: 0.5em;\n",
       "  /* unfitted */\n",
       "  background-color: var(--sklearn-color-unfitted-level-0);\n",
       "}\n",
       "\n",
       "#sk-container-id-1 div.sk-estimator.fitted {\n",
       "  /* fitted */\n",
       "  background-color: var(--sklearn-color-fitted-level-0);\n",
       "}\n",
       "\n",
       "/* on hover */\n",
       "#sk-container-id-1 div.sk-estimator:hover {\n",
       "  /* unfitted */\n",
       "  background-color: var(--sklearn-color-unfitted-level-2);\n",
       "}\n",
       "\n",
       "#sk-container-id-1 div.sk-estimator.fitted:hover {\n",
       "  /* fitted */\n",
       "  background-color: var(--sklearn-color-fitted-level-2);\n",
       "}\n",
       "\n",
       "/* Specification for estimator info (e.g. \"i\" and \"?\") */\n",
       "\n",
       "/* Common style for \"i\" and \"?\" */\n",
       "\n",
       ".sk-estimator-doc-link,\n",
       "a:link.sk-estimator-doc-link,\n",
       "a:visited.sk-estimator-doc-link {\n",
       "  float: right;\n",
       "  font-size: smaller;\n",
       "  line-height: 1em;\n",
       "  font-family: monospace;\n",
       "  background-color: var(--sklearn-color-background);\n",
       "  border-radius: 1em;\n",
       "  height: 1em;\n",
       "  width: 1em;\n",
       "  text-decoration: none !important;\n",
       "  margin-left: 1ex;\n",
       "  /* unfitted */\n",
       "  border: var(--sklearn-color-unfitted-level-1) 1pt solid;\n",
       "  color: var(--sklearn-color-unfitted-level-1);\n",
       "}\n",
       "\n",
       ".sk-estimator-doc-link.fitted,\n",
       "a:link.sk-estimator-doc-link.fitted,\n",
       "a:visited.sk-estimator-doc-link.fitted {\n",
       "  /* fitted */\n",
       "  border: var(--sklearn-color-fitted-level-1) 1pt solid;\n",
       "  color: var(--sklearn-color-fitted-level-1);\n",
       "}\n",
       "\n",
       "/* On hover */\n",
       "div.sk-estimator:hover .sk-estimator-doc-link:hover,\n",
       ".sk-estimator-doc-link:hover,\n",
       "div.sk-label-container:hover .sk-estimator-doc-link:hover,\n",
       ".sk-estimator-doc-link:hover {\n",
       "  /* unfitted */\n",
       "  background-color: var(--sklearn-color-unfitted-level-3);\n",
       "  color: var(--sklearn-color-background);\n",
       "  text-decoration: none;\n",
       "}\n",
       "\n",
       "div.sk-estimator.fitted:hover .sk-estimator-doc-link.fitted:hover,\n",
       ".sk-estimator-doc-link.fitted:hover,\n",
       "div.sk-label-container:hover .sk-estimator-doc-link.fitted:hover,\n",
       ".sk-estimator-doc-link.fitted:hover {\n",
       "  /* fitted */\n",
       "  background-color: var(--sklearn-color-fitted-level-3);\n",
       "  color: var(--sklearn-color-background);\n",
       "  text-decoration: none;\n",
       "}\n",
       "\n",
       "/* Span, style for the box shown on hovering the info icon */\n",
       ".sk-estimator-doc-link span {\n",
       "  display: none;\n",
       "  z-index: 9999;\n",
       "  position: relative;\n",
       "  font-weight: normal;\n",
       "  right: .2ex;\n",
       "  padding: .5ex;\n",
       "  margin: .5ex;\n",
       "  width: min-content;\n",
       "  min-width: 20ex;\n",
       "  max-width: 50ex;\n",
       "  color: var(--sklearn-color-text);\n",
       "  box-shadow: 2pt 2pt 4pt #999;\n",
       "  /* unfitted */\n",
       "  background: var(--sklearn-color-unfitted-level-0);\n",
       "  border: .5pt solid var(--sklearn-color-unfitted-level-3);\n",
       "}\n",
       "\n",
       ".sk-estimator-doc-link.fitted span {\n",
       "  /* fitted */\n",
       "  background: var(--sklearn-color-fitted-level-0);\n",
       "  border: var(--sklearn-color-fitted-level-3);\n",
       "}\n",
       "\n",
       ".sk-estimator-doc-link:hover span {\n",
       "  display: block;\n",
       "}\n",
       "\n",
       "/* \"?\"-specific style due to the `<a>` HTML tag */\n",
       "\n",
       "#sk-container-id-1 a.estimator_doc_link {\n",
       "  float: right;\n",
       "  font-size: 1rem;\n",
       "  line-height: 1em;\n",
       "  font-family: monospace;\n",
       "  background-color: var(--sklearn-color-background);\n",
       "  border-radius: 1rem;\n",
       "  height: 1rem;\n",
       "  width: 1rem;\n",
       "  text-decoration: none;\n",
       "  /* unfitted */\n",
       "  color: var(--sklearn-color-unfitted-level-1);\n",
       "  border: var(--sklearn-color-unfitted-level-1) 1pt solid;\n",
       "}\n",
       "\n",
       "#sk-container-id-1 a.estimator_doc_link.fitted {\n",
       "  /* fitted */\n",
       "  border: var(--sklearn-color-fitted-level-1) 1pt solid;\n",
       "  color: var(--sklearn-color-fitted-level-1);\n",
       "}\n",
       "\n",
       "/* On hover */\n",
       "#sk-container-id-1 a.estimator_doc_link:hover {\n",
       "  /* unfitted */\n",
       "  background-color: var(--sklearn-color-unfitted-level-3);\n",
       "  color: var(--sklearn-color-background);\n",
       "  text-decoration: none;\n",
       "}\n",
       "\n",
       "#sk-container-id-1 a.estimator_doc_link.fitted:hover {\n",
       "  /* fitted */\n",
       "  background-color: var(--sklearn-color-fitted-level-3);\n",
       "}\n",
       "</style><div id=\"sk-container-id-1\" class=\"sk-top-container\"><div class=\"sk-text-repr-fallback\"><pre>LinearRegression()</pre><b>In a Jupyter environment, please rerun this cell to show the HTML representation or trust the notebook. <br />On GitHub, the HTML representation is unable to render, please try loading this page with nbviewer.org.</b></div><div class=\"sk-container\" hidden><div class=\"sk-item\"><div class=\"sk-estimator fitted sk-toggleable\"><input class=\"sk-toggleable__control sk-hidden--visually\" id=\"sk-estimator-id-1\" type=\"checkbox\" checked><label for=\"sk-estimator-id-1\" class=\"sk-toggleable__label fitted sk-toggleable__label-arrow fitted\">&nbsp;&nbsp;LinearRegression<a class=\"sk-estimator-doc-link fitted\" rel=\"noreferrer\" target=\"_blank\" href=\"https://scikit-learn.org/1.4/modules/generated/sklearn.linear_model.LinearRegression.html\">?<span>Documentation for LinearRegression</span></a><span class=\"sk-estimator-doc-link fitted\">i<span>Fitted</span></span></label><div class=\"sk-toggleable__content fitted\"><pre>LinearRegression()</pre></div> </div></div></div></div>"
      ],
      "text/plain": [
       "LinearRegression()"
      ]
     },
     "execution_count": 30,
     "metadata": {},
     "output_type": "execute_result"
    }
   ],
   "source": [
    "## train/build the linear regression model with scikit-learn\n",
    "linear_model = LinearRegression()\n",
    "linear_model.fit(X_train.values.reshape(-1,1), y_train) # training the model on the training data"
   ]
  },
  {
   "cell_type": "code",
   "execution_count": 32,
   "id": "0585e4d2-d965-4951-ad07-de92731b1d3a",
   "metadata": {},
   "outputs": [
    {
     "name": "stdout",
     "output_type": "stream",
     "text": [
      "Accuracy of linear model on training data: 0.47334606890246067\n"
     ]
    }
   ],
   "source": [
    "## model accuracy on the training set\n",
    "train_score = linear_model.score(X_train.values.reshape(-1,1), y_train)\n",
    "print(f'Accuracy of linear model on training data: {train_score}')"
   ]
  },
  {
   "cell_type": "markdown",
   "id": "7f76d6a8-440e-4e19-9f3e-916a7f0f7425",
   "metadata": {},
   "source": [
    "#### 2. Predict and Compute MAE: Use this model to make predictions on the test set and calculate the MAE."
   ]
  },
  {
   "cell_type": "code",
   "execution_count": 90,
   "id": "86e18031-8729-419b-9545-bc32022bfea7",
   "metadata": {},
   "outputs": [],
   "source": [
    "## using the trained model to make predictions on the test set\n",
    "y_pred_train = linear_model.predict(X_train.values.reshape(-1,1))\n",
    "y_pred_test = linear_model.predict(X_test.values.reshape(-1,1))"
   ]
  },
  {
   "cell_type": "code",
   "execution_count": 88,
   "id": "f9a1baf7-ab12-4546-a102-91bf59c36226",
   "metadata": {},
   "outputs": [
    {
     "name": "stdout",
     "output_type": "stream",
     "text": [
      "The Mean Absolute Error (MAE) for the training data is: 0.6263287187706615\n",
      "The Mean Absolute Error (MAE for the test data is 0.4498309212012197\n"
     ]
    }
   ],
   "source": [
    "## calculating the Mean Absolute Error (MAE) with scikit-learn\n",
    "MAE_train = mean_absolute_error(y_train, y_pred_train)\n",
    "print(f'The Mean Absolute Error (MAE) for the training data is: {MAE_train}')\n",
    "MAE_test = mean_absolute_error(y_test, y_pred_test)\n",
    "print(f'The Mean Absolute Error (MAE for the test data is {MAE_test}')"
   ]
  },
  {
   "cell_type": "code",
   "execution_count": 38,
   "id": "dc8e7788-5aba-42c1-8b5b-21763ee3e076",
   "metadata": {},
   "outputs": [
    {
     "data": {
      "image/png": "[encoded data removed]",
      "text/plain": [
       "<Figure size 640x480 with 1 Axes>"
      ]
     },
     "metadata": {},
     "output_type": "display_data"
    }
   ],
   "source": [
    "## plotting a scatter plot to understand the training data\n",
    "plt.figure()\n",
    "plt.scatter(X_train, y_train, color ='#15d4b1')\n",
    "plt.plot(X_train, y_pred_train, color ='#541a8a')\n",
    "plt.xlabel('Median Income', fontsize = 15)\n",
    "plt.ylabel('Price', fontsize = 15)\n",
    "plt.title('Median Income vs. Price (Training Data)', fontsize = 20)\n",
    "plt.show()"
   ]
  },
  {
   "cell_type": "code",
   "execution_count": 107,
   "id": "5d7044e8-08b6-4383-bee8-6d0abc0d9afc",
   "metadata": {},
   "outputs": [
    {
     "data": {
      "image/png": "[encoded data removed]",
      "text/plain": [
       "<Figure size 640x480 with 1 Axes>"
      ]
     },
     "metadata": {},
     "output_type": "display_data"
    }
   ],
   "source": [
    "## creating a plot to understand the model on the test data\n",
    "plt.figure()\n",
    "plt.scatter(X_test, y_test, color = '#33964c')\n",
    "plt.plot(X_test, y_pred_test, color = '#e8850c')\n",
    "plt.xlabel('Median Income', fontsize = 15)\n",
    "plt.ylabel('Price', fontsize = 15)\n",
    "plt.title('Median Income vs. Price (Test Data)', fontsize = 20)\n",
    "plt.show()"
   ]
  },
  {
   "cell_type": "markdown",
   "id": "1f76d899-e68e-43a2-a2a0-80fa1d28da62",
   "metadata": {},
   "source": [
    "# Question 5: Comparative Analysis"
   ]
  },
  {
   "cell_type": "markdown",
   "id": "1491b2b8-1d25-48e9-91a2-747889a6892d",
   "metadata": {},
   "source": [
    "### Compare the MAE from the manual implementation (Question 2, 3) with the scikit-learn implementation (Question 4). Discuss which model has the  lower MAE and why this might be the case. "
   ]
  },
  {
   "cell_type": "markdown",
   "id": "6c6b26b5-ce1e-44b3-95c1-15dfa641eecc",
   "metadata": {},
   "source": [
    "For my calculations, I got a MAE of 0.4498 for Question 2, a MAE of 0.44489 for Question 3, and a MAE of 0.4498 for Question 4 for the test data. My calculations for the MAE were almost identical for all three questions, but Question 3's MAE is lower (by one decimal place). The reason the Gradient Descent may have a lower MAE due to several factors, including the learning rate and the number of iterations (or how many times the model is run). If the learning rate is too high, the gradient descent may overshoot and fail to converge, whereas if the learning rate is too low, the model may converge very slowly. If there are an insufficient number of iterations that the model is run, it may result in a model that hasn't fully converged to the optimal values of m and b. For Question 2 and Question 4, the manual calculations are done to optimize the slope (m) and intercept (b) by using the least squares formula, and the scikit-learn model uses the same method. "
   ]
  }
 ],
 "metadata": {
  "kernelspec": {
   "display_name": "Python 3 (ipykernel)",
   "language": "python",
   "name": "python3"
  },
  "language_info": {
   "codemirror_mode": {
    "name": "ipython",
    "version": 3
   },
   "file_extension": ".py",
   "mimetype": "text/x-python",
   "name": "python",
   "nbconvert_exporter": "python",
   "pygments_lexer": "ipython3",
   "version": "3.12.4"
  }
 },
 "nbformat": 4,
 "nbformat_minor": 5
}
