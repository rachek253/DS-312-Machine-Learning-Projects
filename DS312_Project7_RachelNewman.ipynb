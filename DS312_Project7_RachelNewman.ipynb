{
 "cells": [
  {
   "cell_type": "code",
   "execution_count": 1,
   "id": "3e027517-d066-4e5c-bf11-55ee65c2890a",
   "metadata": {},
   "outputs": [],
   "source": [
    "import numpy as np\n",
    "import pandas as pd\n",
    "import matplotlib.pyplot as plt\n",
    "\n",
    "from sklearn.preprocessing import StandardScaler\n",
    "from sklearn.model_selection import KFold\n",
    "\n",
    "from keras.datasets import mnist\n",
    "from keras.datasets import boston_housing\n",
    "\n",
    "from tensorflow.keras.layers import Dense\n",
    "from tensorflow.keras.layers import Dropout\n",
    "from tensorflow.keras.layers import Input\n",
    "\n",
    "from tensorflow.keras.models import Sequential\n",
    "from tensorflow.keras import regularizers\n",
    "from tensorflow.keras.utils import to_categorical"
   ]
  },
  {
   "cell_type": "markdown",
   "id": "67a9b6ac-2d09-4716-824b-43eb144ac3a4",
   "metadata": {},
   "source": [
    "# Problem 1: \n",
    "\n",
    "Consider the MNIST dataset from keras package. It contains a training set of 60,000 28x28 grayscale images of 10 handwritten digits (from 0 to 9), along with a test set of 10,000 images. We would like to build a feedforward neural network model to identify the digit on the image. This is a multiclass classification problem with 10 output classes. For fitting the model below, use ReLU activation for the hidden layers, softmax activation for the output layer, and minibatches of size 128.\n",
    " 128.\r\n",
    "(a) Fit a neural network model with 1 hidden layer with 512 hidden units and 5 epochs.\r\n",
    "Report its training and test errors.\r\n",
    "(b) Repeat (a) with 1 hidden layer with 512 hidden units and 10 epochs.\r\n",
    "(c) Repeat (a) with 1 hidden layer with 256 hidden units and 5 epochs.\r\n",
    "(d) Repeat (a) with 1 hidden layer with 256 hidden units and 10 epochs.\r\n",
    "(e) Repeat (a) with 2 hidden layers, each with 512 hidden units, and 5 epochs.\r\n",
    "(f) Repeat (a) with 2 hidden layers, each with 512 hidden units, and 10 epochs.\r\n",
    "(g) Repeat (a) with 2 hidden layers, each with 256 hidden units, and 5 epochs.\r\n",
    "(h) Repeat (a) with 2 hidden layers, each with 256 hidden units, and 10 epochs.\r\n",
    "(i) Repeat (a) with L2 weight regularization with = 0001.\r\n",
    "(j) Repeat (a) with 50% dropout.\r\n",
    "(k) Make a tabular summary of the results from all the above models and compare them.\r\n",
    "Which model would you recommend?"
   ]
  },
  {
   "cell_type": "markdown",
   "id": "5296b376-407f-430c-b820-4997989b3f60",
   "metadata": {},
   "source": [
    "### (a) Fit a neural network model with 1 hidden layer with 512 units and 5 epochs. Report its training and test errors."
   ]
  },
  {
   "cell_type": "code",
   "execution_count": 5,
   "id": "e78ca6e2-3d7d-4b22-a0e9-1f23abb51558",
   "metadata": {},
   "outputs": [],
   "source": [
    "## loading in the MNIST dataset:\n",
    "data = mnist.load_data()\n",
    "\n",
    "## splitting the data directly into training and testing\n",
    "(x_train, y_train), (x_test, y_test) = data"
   ]
  },
  {
   "cell_type": "code",
   "execution_count": 6,
   "id": "3d954caf-c7eb-4b3c-ba5b-96424c42f9e4",
   "metadata": {},
   "outputs": [
    {
     "name": "stdout",
     "output_type": "stream",
     "text": [
      "(60000, 28, 28)\n",
      "(10000, 28, 28)\n"
     ]
    }
   ],
   "source": [
    "## verifying the shape of the first image\n",
    "x_train[0].shape\n",
    "\n",
    "## verifying that training and test data are the correct size\n",
    "print(x_train.shape)\n",
    "print(x_test.shape)"
   ]
  },
  {
   "cell_type": "code",
   "execution_count": 10,
   "id": "67b72ada-476d-480a-b941-22d7e22bf01a",
   "metadata": {},
   "outputs": [],
   "source": [
    "## reshaping each image so that every pixel of the images can be accessed\n",
    "x_train = x_train.reshape((x_train.shape[0], 28*28)).astype('float32') / 255\n",
    "x_test = x_test.reshape((x_test.shape[0], 28*28)).astype('float32') / 255"
   ]
  },
  {
   "cell_type": "code",
   "execution_count": 12,
   "id": "c2efabb7-d096-4125-b897-a2641a3d8594",
   "metadata": {},
   "outputs": [
    {
     "name": "stdout",
     "output_type": "stream",
     "text": [
      "y_train shape: (60000, 10)\n",
      "y_test shape: (10000, 10)\n"
     ]
    }
   ],
   "source": [
    "## one-hot encoding labels\n",
    "y_train = to_categorical(y_train, 10)\n",
    "y_test = to_categorical(y_test, 10)\n",
    "print(\"y_train shape:\", y_train.shape)  # Should be (60000, 10)\n",
    "print(\"y_test shape:\", y_test.shape)    # Should be (10000, 10)"
   ]
  },
  {
   "cell_type": "code",
   "execution_count": 14,
   "id": "059920a6-640e-4f77-ad5d-e8a0b2e45446",
   "metadata": {},
   "outputs": [],
   "source": [
    "# building the model with 1 hidden layer with 512 nodes and 5 epochs\n",
    "model_a = Sequential()\n",
    "model_a.add(Input(shape = (28*28,)))\n",
    "model_a.add(Dense(512, activation = 'relu')) # 1 hidden layer with 512 units\n",
    "model_a.add(Dense(10, activation = 'softmax')) # output layer with 10 different classes (for digits 0 to 9)\n",
    "\n",
    "## compiling the model\n",
    "model_a.compile(optimizer = 'adam', loss = 'categorical_crossentropy', metrics = ['accuracy'])"
   ]
  },
  {
   "cell_type": "code",
   "execution_count": 16,
   "id": "71b66a19-4665-479b-91db-645b40557e03",
   "metadata": {},
   "outputs": [
    {
     "name": "stdout",
     "output_type": "stream",
     "text": [
      "Epoch 1/5\n",
      "\u001b[1m469/469\u001b[0m \u001b[32m━━━━━━━━━━━━━━━━━━━━\u001b[0m\u001b[37m\u001b[0m \u001b[1m3s\u001b[0m 4ms/step - accuracy: 0.8635 - loss: 0.4739 - val_accuracy: 0.9578 - val_loss: 0.1409\n",
      "Epoch 2/5\n",
      "\u001b[1m469/469\u001b[0m \u001b[32m━━━━━━━━━━━━━━━━━━━━\u001b[0m\u001b[37m\u001b[0m \u001b[1m2s\u001b[0m 4ms/step - accuracy: 0.9645 - loss: 0.1226 - val_accuracy: 0.9707 - val_loss: 0.0938\n",
      "Epoch 3/5\n",
      "\u001b[1m469/469\u001b[0m \u001b[32m━━━━━━━━━━━━━━━━━━━━\u001b[0m\u001b[37m\u001b[0m \u001b[1m2s\u001b[0m 4ms/step - accuracy: 0.9797 - loss: 0.0725 - val_accuracy: 0.9745 - val_loss: 0.0804\n",
      "Epoch 4/5\n",
      "\u001b[1m469/469\u001b[0m \u001b[32m━━━━━━━━━━━━━━━━━━━━\u001b[0m\u001b[37m\u001b[0m \u001b[1m2s\u001b[0m 4ms/step - accuracy: 0.9857 - loss: 0.0508 - val_accuracy: 0.9762 - val_loss: 0.0752\n",
      "Epoch 5/5\n",
      "\u001b[1m469/469\u001b[0m \u001b[32m━━━━━━━━━━━━━━━━━━━━\u001b[0m\u001b[37m\u001b[0m \u001b[1m2s\u001b[0m 4ms/step - accuracy: 0.9900 - loss: 0.0362 - val_accuracy: 0.9789 - val_loss: 0.0670\n"
     ]
    }
   ],
   "source": [
    "## training the neural network with minibatch size 128 and 5 epochs\n",
    "history_a = model_a.fit(x_train, y_train, validation_data = (x_test, y_test), epochs = 5, batch_size = 128, verbose = 1)"
   ]
  },
  {
   "cell_type": "code",
   "execution_count": 18,
   "id": "ac533c5e-6148-4e22-86e5-480a27daf1ae",
   "metadata": {},
   "outputs": [
    {
     "name": "stdout",
     "output_type": "stream",
     "text": [
      "\u001b[1m313/313\u001b[0m \u001b[32m━━━━━━━━━━━━━━━━━━━━\u001b[0m\u001b[37m\u001b[0m \u001b[1m0s\u001b[0m 770us/step - accuracy: 0.9760 - loss: 0.0757\n",
      "Test Accuracy for Neural Network (a): 0.9789\n",
      "Test Loss for Neural Network (a): 0.0670\n",
      "\u001b[1m1875/1875\u001b[0m \u001b[32m━━━━━━━━━━━━━━━━━━━━\u001b[0m\u001b[37m\u001b[0m \u001b[1m1s\u001b[0m 755us/step - accuracy: 0.9927 - loss: 0.0297\n",
      "Training Accuracy for Neural Network (a): 0.9925\n",
      "Training Loss for Neural Network (a): 0.0291\n"
     ]
    }
   ],
   "source": [
    "## evaluating model performance on training and test data\n",
    "test_loss_a, test_accuracy_a = model_a.evaluate(x_test, y_test)\n",
    "print(f\"Test Accuracy for Neural Network (a): {test_accuracy_a:.4f}\")\n",
    "print(f\"Test Loss for Neural Network (a): {test_loss_a:.4f}\")\n",
    "\n",
    "train_loss_a, train_accuracy_a = model_a.evaluate(x_train, y_train)\n",
    "print(f\"Training Accuracy for Neural Network (a): {train_accuracy_a:.4f}\")\n",
    "print(f\"Training Loss for Neural Network (a): {train_loss_a:.4f}\")"
   ]
  },
  {
   "cell_type": "markdown",
   "id": "1ac7944b-78aa-4732-93d9-38deab1eb431",
   "metadata": {},
   "source": [
    "### (b) Repeat (a) with 1 hidden layer with 512 hidden units and 10 epochs."
   ]
  },
  {
   "cell_type": "code",
   "execution_count": 21,
   "id": "0a7b784b-9e13-4cde-a17d-c312d8f9b112",
   "metadata": {},
   "outputs": [],
   "source": [
    "# building the model with 1 hidden layer with 512 nodes and 10 epochs\n",
    "model_b = Sequential()\n",
    "model_b.add(Input(shape = (28*28,)))\n",
    "model_b.add(Dense(512, activation = 'relu')) # 1 hidden layer with 512 units\n",
    "model_b.add(Dense(10, activation = 'softmax')) # output layer with 10 different classes (for digits 0 to 9)\n",
    "\n",
    "## compiling the model\n",
    "model_b.compile(optimizer = 'adam', loss = 'categorical_crossentropy', metrics = ['accuracy'])"
   ]
  },
  {
   "cell_type": "code",
   "execution_count": 23,
   "id": "f8142059-2057-4629-9f73-114ad37cc24a",
   "metadata": {},
   "outputs": [
    {
     "name": "stdout",
     "output_type": "stream",
     "text": [
      "Epoch 1/10\n",
      "\u001b[1m469/469\u001b[0m \u001b[32m━━━━━━━━━━━━━━━━━━━━\u001b[0m\u001b[37m\u001b[0m \u001b[1m3s\u001b[0m 4ms/step - accuracy: 0.8728 - loss: 0.4552 - val_accuracy: 0.9614 - val_loss: 0.1319\n",
      "Epoch 2/10\n",
      "\u001b[1m469/469\u001b[0m \u001b[32m━━━━━━━━━━━━━━━━━━━━\u001b[0m\u001b[37m\u001b[0m \u001b[1m2s\u001b[0m 4ms/step - accuracy: 0.9666 - loss: 0.1174 - val_accuracy: 0.9695 - val_loss: 0.1058\n",
      "Epoch 3/10\n",
      "\u001b[1m469/469\u001b[0m \u001b[32m━━━━━━━━━━━━━━━━━━━━\u001b[0m\u001b[37m\u001b[0m \u001b[1m2s\u001b[0m 3ms/step - accuracy: 0.9790 - loss: 0.0741 - val_accuracy: 0.9737 - val_loss: 0.0829\n",
      "Epoch 4/10\n",
      "\u001b[1m469/469\u001b[0m \u001b[32m━━━━━━━━━━━━━━━━━━━━\u001b[0m\u001b[37m\u001b[0m \u001b[1m2s\u001b[0m 3ms/step - accuracy: 0.9852 - loss: 0.0540 - val_accuracy: 0.9783 - val_loss: 0.0700\n",
      "Epoch 5/10\n",
      "\u001b[1m469/469\u001b[0m \u001b[32m━━━━━━━━━━━━━━━━━━━━\u001b[0m\u001b[37m\u001b[0m \u001b[1m2s\u001b[0m 3ms/step - accuracy: 0.9893 - loss: 0.0375 - val_accuracy: 0.9798 - val_loss: 0.0668\n",
      "Epoch 6/10\n",
      "\u001b[1m469/469\u001b[0m \u001b[32m━━━━━━━━━━━━━━━━━━━━\u001b[0m\u001b[37m\u001b[0m \u001b[1m2s\u001b[0m 3ms/step - accuracy: 0.9928 - loss: 0.0266 - val_accuracy: 0.9806 - val_loss: 0.0667\n",
      "Epoch 7/10\n",
      "\u001b[1m469/469\u001b[0m \u001b[32m━━━━━━━━━━━━━━━━━━━━\u001b[0m\u001b[37m\u001b[0m \u001b[1m2s\u001b[0m 3ms/step - accuracy: 0.9948 - loss: 0.0200 - val_accuracy: 0.9805 - val_loss: 0.0662\n",
      "Epoch 8/10\n",
      "\u001b[1m469/469\u001b[0m \u001b[32m━━━━━━━━━━━━━━━━━━━━\u001b[0m\u001b[37m\u001b[0m \u001b[1m2s\u001b[0m 3ms/step - accuracy: 0.9965 - loss: 0.0154 - val_accuracy: 0.9820 - val_loss: 0.0612\n",
      "Epoch 9/10\n",
      "\u001b[1m469/469\u001b[0m \u001b[32m━━━━━━━━━━━━━━━━━━━━\u001b[0m\u001b[37m\u001b[0m \u001b[1m2s\u001b[0m 3ms/step - accuracy: 0.9979 - loss: 0.0105 - val_accuracy: 0.9786 - val_loss: 0.0714\n",
      "Epoch 10/10\n",
      "\u001b[1m469/469\u001b[0m \u001b[32m━━━━━━━━━━━━━━━━━━━━\u001b[0m\u001b[37m\u001b[0m \u001b[1m2s\u001b[0m 4ms/step - accuracy: 0.9975 - loss: 0.0103 - val_accuracy: 0.9811 - val_loss: 0.0604\n"
     ]
    }
   ],
   "source": [
    "## training the neural network with minibatch size 128 and 10 epochs\n",
    "history_b = model_b.fit(x_train, y_train, validation_data = (x_test, y_test), epochs = 10, batch_size = 128, verbose = 1)"
   ]
  },
  {
   "cell_type": "code",
   "execution_count": 25,
   "id": "e097d931-f5e4-4a91-92aa-3cf9e3200567",
   "metadata": {},
   "outputs": [
    {
     "name": "stdout",
     "output_type": "stream",
     "text": [
      "\u001b[1m313/313\u001b[0m \u001b[32m━━━━━━━━━━━━━━━━━━━━\u001b[0m\u001b[37m\u001b[0m \u001b[1m0s\u001b[0m 758us/step - accuracy: 0.9782 - loss: 0.0733\n",
      "Test Accuracy for Neural Network (b): 0.9811\n",
      "Test Loss for Neural Network (b): 0.0604\n",
      "\u001b[1m1875/1875\u001b[0m \u001b[32m━━━━━━━━━━━━━━━━━━━━\u001b[0m\u001b[37m\u001b[0m \u001b[1m1s\u001b[0m 726us/step - accuracy: 0.9995 - loss: 0.0050\n",
      "Training Accuracy for Neural Network (b): 0.9994\n",
      "Training Loss for Neural Network (b): 0.0051\n"
     ]
    }
   ],
   "source": [
    "## evaluating model performance on training and test data\n",
    "test_loss_b, test_accuracy_b = model_b.evaluate(x_test, y_test)\n",
    "print(f\"Test Accuracy for Neural Network (b): {test_accuracy_b:.4f}\")\n",
    "print(f\"Test Loss for Neural Network (b): {test_loss_b:.4f}\")\n",
    "\n",
    "train_loss_b, train_accuracy_b = model_b.evaluate(x_train, y_train)\n",
    "print(f\"Training Accuracy for Neural Network (b): {train_accuracy_b:.4f}\")\n",
    "print(f\"Training Loss for Neural Network (b): {train_loss_b:.4f}\")"
   ]
  },
  {
   "cell_type": "markdown",
   "id": "c06ade13-d6bf-4c23-9bb4-487a5a03d518",
   "metadata": {},
   "source": [
    "### (c) Repeat (a) with 1 hidden layer with 256 hidden units and 5 epochs. "
   ]
  },
  {
   "cell_type": "code",
   "execution_count": 28,
   "id": "738ec1aa-459d-4b85-bdbe-5961c98d378d",
   "metadata": {},
   "outputs": [],
   "source": [
    "# building the model with 1 hidden layer with 256 nodes and 5 epochs\n",
    "model_c = Sequential()\n",
    "model_c.add(Input(shape = (28*28,)))\n",
    "model_c.add(Dense(256, activation = 'relu')) # 1 hidden layer with 256 units\n",
    "model_c.add(Dense(10, activation = 'softmax')) # output layer with 10 different classes (for digits 0 to 9)\n",
    "\n",
    "## compiling the model\n",
    "model_c.compile(optimizer = 'adam', loss = 'categorical_crossentropy', metrics = ['accuracy'])"
   ]
  },
  {
   "cell_type": "code",
   "execution_count": 30,
   "id": "54585c3e-5e3b-41c9-b3ce-949d288d5161",
   "metadata": {},
   "outputs": [
    {
     "name": "stdout",
     "output_type": "stream",
     "text": [
      "Epoch 1/5\n",
      "\u001b[1m469/469\u001b[0m \u001b[32m━━━━━━━━━━━━━━━━━━━━\u001b[0m\u001b[37m\u001b[0m \u001b[1m2s\u001b[0m 2ms/step - accuracy: 0.8487 - loss: 0.5408 - val_accuracy: 0.9503 - val_loss: 0.1663\n",
      "Epoch 2/5\n",
      "\u001b[1m469/469\u001b[0m \u001b[32m━━━━━━━━━━━━━━━━━━━━\u001b[0m\u001b[37m\u001b[0m \u001b[1m1s\u001b[0m 2ms/step - accuracy: 0.9585 - loss: 0.1490 - val_accuracy: 0.9668 - val_loss: 0.1131\n",
      "Epoch 3/5\n",
      "\u001b[1m469/469\u001b[0m \u001b[32m━━━━━━━━━━━━━━━━━━━━\u001b[0m\u001b[37m\u001b[0m \u001b[1m1s\u001b[0m 2ms/step - accuracy: 0.9729 - loss: 0.0958 - val_accuracy: 0.9727 - val_loss: 0.0908\n",
      "Epoch 4/5\n",
      "\u001b[1m469/469\u001b[0m \u001b[32m━━━━━━━━━━━━━━━━━━━━\u001b[0m\u001b[37m\u001b[0m \u001b[1m1s\u001b[0m 2ms/step - accuracy: 0.9796 - loss: 0.0710 - val_accuracy: 0.9757 - val_loss: 0.0814\n",
      "Epoch 5/5\n",
      "\u001b[1m469/469\u001b[0m \u001b[32m━━━━━━━━━━━━━━━━━━━━\u001b[0m\u001b[37m\u001b[0m \u001b[1m1s\u001b[0m 2ms/step - accuracy: 0.9850 - loss: 0.0522 - val_accuracy: 0.9757 - val_loss: 0.0792\n"
     ]
    }
   ],
   "source": [
    "## training the neural network with minibatch size 128 and 5 epochs\n",
    "history_c = model_c.fit(x_train, y_train, validation_data = (x_test, y_test), epochs = 5, batch_size = 128, verbose = 1)"
   ]
  },
  {
   "cell_type": "code",
   "execution_count": 32,
   "id": "07bbd2f9-a9de-4a96-9f37-ceb92c4a3e04",
   "metadata": {},
   "outputs": [
    {
     "name": "stdout",
     "output_type": "stream",
     "text": [
      "\u001b[1m313/313\u001b[0m \u001b[32m━━━━━━━━━━━━━━━━━━━━\u001b[0m\u001b[37m\u001b[0m \u001b[1m0s\u001b[0m 773us/step - accuracy: 0.9731 - loss: 0.0924\n",
      "Test Accuracy for Neural Network (c): 0.9757\n",
      "Test Loss for Neural Network (c): 0.0792\n",
      "\u001b[1m1875/1875\u001b[0m \u001b[32m━━━━━━━━━━━━━━━━━━━━\u001b[0m\u001b[37m\u001b[0m \u001b[1m1s\u001b[0m 736us/step - accuracy: 0.9889 - loss: 0.0414\n",
      "Training Accuracy for Neural Network (c): 0.9888\n",
      "Training Loss for Neural Network (c): 0.0413\n"
     ]
    }
   ],
   "source": [
    "## evaluating model performance on training and test data\n",
    "test_loss_c, test_accuracy_c = model_c.evaluate(x_test, y_test)\n",
    "print(f\"Test Accuracy for Neural Network (c): {test_accuracy_c:.4f}\")\n",
    "print(f\"Test Loss for Neural Network (c): {test_loss_c:.4f}\")\n",
    "\n",
    "train_loss_c, train_accuracy_c = model_c.evaluate(x_train, y_train)\n",
    "print(f\"Training Accuracy for Neural Network (c): {train_accuracy_c:.4f}\")\n",
    "print(f\"Training Loss for Neural Network (c): {train_loss_c:.4f}\")"
   ]
  },
  {
   "cell_type": "markdown",
   "id": "1347de96-0988-43ea-8cf4-23f8fa66354b",
   "metadata": {},
   "source": [
    "### (d) Repeat (a) with 1 hidden layer with 256 hidden units and 10 epochs."
   ]
  },
  {
   "cell_type": "code",
   "execution_count": 35,
   "id": "7a266753-80e9-4b73-b15d-9073eebb0617",
   "metadata": {},
   "outputs": [],
   "source": [
    "# building the model with 1 hidden layer with 256 nodes and 10 epochs\n",
    "model_d = Sequential()\n",
    "model_d.add(Input(shape = (28*28,)))\n",
    "model_d.add(Dense(256, activation = 'relu')) # 1 hidden layer with 256 units\n",
    "model_d.add(Dense(10, activation = 'softmax')) # output layer with 10 different classes (for digits 0 to 9)\n",
    "\n",
    "## compiling the model\n",
    "model_d.compile(optimizer = 'adam', loss = 'categorical_crossentropy', metrics = ['accuracy'])"
   ]
  },
  {
   "cell_type": "code",
   "execution_count": 37,
   "id": "82b6149f-e7db-4bf7-bfbc-6061f83a4564",
   "metadata": {},
   "outputs": [
    {
     "name": "stdout",
     "output_type": "stream",
     "text": [
      "Epoch 1/10\n",
      "\u001b[1m469/469\u001b[0m \u001b[32m━━━━━━━━━━━━━━━━━━━━\u001b[0m\u001b[37m\u001b[0m \u001b[1m2s\u001b[0m 2ms/step - accuracy: 0.8539 - loss: 0.5315 - val_accuracy: 0.9545 - val_loss: 0.1580\n",
      "Epoch 2/10\n",
      "\u001b[1m469/469\u001b[0m \u001b[32m━━━━━━━━━━━━━━━━━━━━\u001b[0m\u001b[37m\u001b[0m \u001b[1m1s\u001b[0m 2ms/step - accuracy: 0.9576 - loss: 0.1460 - val_accuracy: 0.9667 - val_loss: 0.1108\n",
      "Epoch 3/10\n",
      "\u001b[1m469/469\u001b[0m \u001b[32m━━━━━━━━━━━━━━━━━━━━\u001b[0m\u001b[37m\u001b[0m \u001b[1m1s\u001b[0m 2ms/step - accuracy: 0.9742 - loss: 0.0921 - val_accuracy: 0.9744 - val_loss: 0.0880\n",
      "Epoch 4/10\n",
      "\u001b[1m469/469\u001b[0m \u001b[32m━━━━━━━━━━━━━━━━━━━━\u001b[0m\u001b[37m\u001b[0m \u001b[1m1s\u001b[0m 2ms/step - accuracy: 0.9805 - loss: 0.0676 - val_accuracy: 0.9756 - val_loss: 0.0787\n",
      "Epoch 5/10\n",
      "\u001b[1m469/469\u001b[0m \u001b[32m━━━━━━━━━━━━━━━━━━━━\u001b[0m\u001b[37m\u001b[0m \u001b[1m1s\u001b[0m 2ms/step - accuracy: 0.9868 - loss: 0.0480 - val_accuracy: 0.9771 - val_loss: 0.0742\n",
      "Epoch 6/10\n",
      "\u001b[1m469/469\u001b[0m \u001b[32m━━━━━━━━━━━━━━━━━━━━\u001b[0m\u001b[37m\u001b[0m \u001b[1m1s\u001b[0m 2ms/step - accuracy: 0.9891 - loss: 0.0382 - val_accuracy: 0.9777 - val_loss: 0.0750\n",
      "Epoch 7/10\n",
      "\u001b[1m469/469\u001b[0m \u001b[32m━━━━━━━━━━━━━━━━━━━━\u001b[0m\u001b[37m\u001b[0m \u001b[1m1s\u001b[0m 2ms/step - accuracy: 0.9921 - loss: 0.0299 - val_accuracy: 0.9785 - val_loss: 0.0651\n",
      "Epoch 8/10\n",
      "\u001b[1m469/469\u001b[0m \u001b[32m━━━━━━━━━━━━━━━━━━━━\u001b[0m\u001b[37m\u001b[0m \u001b[1m1s\u001b[0m 2ms/step - accuracy: 0.9939 - loss: 0.0236 - val_accuracy: 0.9785 - val_loss: 0.0711\n",
      "Epoch 9/10\n",
      "\u001b[1m469/469\u001b[0m \u001b[32m━━━━━━━━━━━━━━━━━━━━\u001b[0m\u001b[37m\u001b[0m \u001b[1m1s\u001b[0m 2ms/step - accuracy: 0.9963 - loss: 0.0179 - val_accuracy: 0.9806 - val_loss: 0.0638\n",
      "Epoch 10/10\n",
      "\u001b[1m469/469\u001b[0m \u001b[32m━━━━━━━━━━━━━━━━━━━━\u001b[0m\u001b[37m\u001b[0m \u001b[1m1s\u001b[0m 2ms/step - accuracy: 0.9969 - loss: 0.0147 - val_accuracy: 0.9804 - val_loss: 0.0692\n"
     ]
    }
   ],
   "source": [
    "## training the neural network with minibatch size 128 and 10 epochs\n",
    "history_d = model_d.fit(x_train, y_train, validation_data = (x_test, y_test), epochs = 10, batch_size = 128, verbose = 1)"
   ]
  },
  {
   "cell_type": "code",
   "execution_count": 39,
   "id": "3b744c03-bb2f-431e-8d12-480d4ee78b5a",
   "metadata": {},
   "outputs": [
    {
     "name": "stdout",
     "output_type": "stream",
     "text": [
      "\u001b[1m313/313\u001b[0m \u001b[32m━━━━━━━━━━━━━━━━━━━━\u001b[0m\u001b[37m\u001b[0m \u001b[1m0s\u001b[0m 866us/step - accuracy: 0.9764 - loss: 0.0839\n",
      "Test Accuracy for Neural Network (d): 0.9804\n",
      "Test Loss for Neural Network (d): 0.0692\n",
      "\u001b[1m1875/1875\u001b[0m \u001b[32m━━━━━━━━━━━━━━━━━━━━\u001b[0m\u001b[37m\u001b[0m \u001b[1m1s\u001b[0m 684us/step - accuracy: 0.9971 - loss: 0.0133\n",
      "Training Accuracy for Neural Network (d): 0.9970\n",
      "Training Loss for Neural Network (d): 0.0134\n"
     ]
    }
   ],
   "source": [
    "## evaluating model performance on training and test data\n",
    "test_loss_d, test_accuracy_d = model_d.evaluate(x_test, y_test)\n",
    "print(f\"Test Accuracy for Neural Network (d): {test_accuracy_d:.4f}\")\n",
    "print(f\"Test Loss for Neural Network (d): {test_loss_d:.4f}\")\n",
    "\n",
    "train_loss_d, train_accuracy_d = model_d.evaluate(x_train, y_train)\n",
    "print(f\"Training Accuracy for Neural Network (d): {train_accuracy_d:.4f}\")\n",
    "print(f\"Training Loss for Neural Network (d): {train_loss_d:.4f}\")"
   ]
  },
  {
   "cell_type": "markdown",
   "id": "a6511906-5500-4b80-bd38-a3c409fc8d6e",
   "metadata": {},
   "source": [
    "### (e) Repeat (a) with 2 hidden layers, each with 512 hidden units, and 5 epochs. "
   ]
  },
  {
   "cell_type": "code",
   "execution_count": 42,
   "id": "afd2a5d9-6116-4938-8fc3-0fbc072e1393",
   "metadata": {},
   "outputs": [],
   "source": [
    "# building the model with 2 hidden layers, each with 512 nodes and 5 epochs\n",
    "model_e = Sequential()\n",
    "model_e.add(Input(shape = (28*28,)))\n",
    "model_e.add(Dense(512, activation = 'relu')) # 1st hidden layer with 512 units\n",
    "model_e.add(Dense(512, activation = 'relu')) # 2nd hidden layer with 512 units\n",
    "model_e.add(Dense(10, activation = 'softmax')) # output layer with 10 different classes (for digits 0 to 9)\n",
    "\n",
    "## compiling the model\n",
    "model_e.compile(optimizer = 'adam', loss = 'categorical_crossentropy', metrics = ['accuracy'])"
   ]
  },
  {
   "cell_type": "code",
   "execution_count": 44,
   "id": "de51ccf2-a574-42b7-8f76-233dad363a91",
   "metadata": {},
   "outputs": [
    {
     "name": "stdout",
     "output_type": "stream",
     "text": [
      "Epoch 1/5\n",
      "\u001b[1m469/469\u001b[0m \u001b[32m━━━━━━━━━━━━━━━━━━━━\u001b[0m\u001b[37m\u001b[0m \u001b[1m4s\u001b[0m 7ms/step - accuracy: 0.8827 - loss: 0.3993 - val_accuracy: 0.9654 - val_loss: 0.1119\n",
      "Epoch 2/5\n",
      "\u001b[1m469/469\u001b[0m \u001b[32m━━━━━━━━━━━━━━━━━━━━\u001b[0m\u001b[37m\u001b[0m \u001b[1m3s\u001b[0m 6ms/step - accuracy: 0.9747 - loss: 0.0816 - val_accuracy: 0.9742 - val_loss: 0.0805\n",
      "Epoch 3/5\n",
      "\u001b[1m469/469\u001b[0m \u001b[32m━━━━━━━━━━━━━━━━━━━━\u001b[0m\u001b[37m\u001b[0m \u001b[1m3s\u001b[0m 7ms/step - accuracy: 0.9850 - loss: 0.0459 - val_accuracy: 0.9779 - val_loss: 0.0722\n",
      "Epoch 4/5\n",
      "\u001b[1m469/469\u001b[0m \u001b[32m━━━━━━━━━━━━━━━━━━━━\u001b[0m\u001b[37m\u001b[0m \u001b[1m3s\u001b[0m 7ms/step - accuracy: 0.9886 - loss: 0.0353 - val_accuracy: 0.9756 - val_loss: 0.0814\n",
      "Epoch 5/5\n",
      "\u001b[1m469/469\u001b[0m \u001b[32m━━━━━━━━━━━━━━━━━━━━\u001b[0m\u001b[37m\u001b[0m \u001b[1m3s\u001b[0m 7ms/step - accuracy: 0.9919 - loss: 0.0255 - val_accuracy: 0.9804 - val_loss: 0.0692\n"
     ]
    }
   ],
   "source": [
    "## training the neural network with minibatch size 128 and 5 epochs\n",
    "history_e = model_e.fit(x_train, y_train, validation_data = (x_test, y_test), epochs = 5, batch_size = 128, verbose = 1)"
   ]
  },
  {
   "cell_type": "code",
   "execution_count": 46,
   "id": "1134daa6-01fb-462d-863c-af19b7e4641f",
   "metadata": {},
   "outputs": [
    {
     "name": "stdout",
     "output_type": "stream",
     "text": [
      "\u001b[1m313/313\u001b[0m \u001b[32m━━━━━━━━━━━━━━━━━━━━\u001b[0m\u001b[37m\u001b[0m \u001b[1m0s\u001b[0m 1ms/step - accuracy: 0.9779 - loss: 0.0823\n",
      "Test Accuracy for Neural Network (e): 0.9804\n",
      "Test Loss for Neural Network (e): 0.0692\n",
      "\u001b[1m1875/1875\u001b[0m \u001b[32m━━━━━━━━━━━━━━━━━━━━\u001b[0m\u001b[37m\u001b[0m \u001b[1m2s\u001b[0m 1ms/step - accuracy: 0.9944 - loss: 0.0166\n",
      "Training Accuracy for Neural Network (e): 0.9951\n",
      "Training Loss for Neural Network (e): 0.0157\n"
     ]
    }
   ],
   "source": [
    "## evaluating model performance on training and test data\n",
    "test_loss_e, test_accuracy_e = model_e.evaluate(x_test, y_test)\n",
    "print(f\"Test Accuracy for Neural Network (e): {test_accuracy_e:.4f}\")\n",
    "print(f\"Test Loss for Neural Network (e): {test_loss_e:.4f}\")\n",
    "\n",
    "train_loss_e, train_accuracy_e = model_e.evaluate(x_train, y_train)\n",
    "print(f\"Training Accuracy for Neural Network (e): {train_accuracy_e:.4f}\")\n",
    "print(f\"Training Loss for Neural Network (e): {train_loss_e:.4f}\")"
   ]
  },
  {
   "cell_type": "markdown",
   "id": "cfd64a74-5924-4761-b515-3d8fd71100e5",
   "metadata": {},
   "source": [
    "### (f) Repeat (a) with 2 hidden layers, each with 512 hidden units, and 10 epochs."
   ]
  },
  {
   "cell_type": "code",
   "execution_count": 49,
   "id": "12fbc930-9d05-41cb-8239-f235d9a90b2e",
   "metadata": {},
   "outputs": [],
   "source": [
    "# building the model with 2 hidden layers, each with 512 nodes and 10 epochs\n",
    "model_f = Sequential()\n",
    "model_f.add(Input(shape = (28*28,)))\n",
    "model_f.add(Dense(512, activation = 'relu')) # 1st hidden layer with 512 units\n",
    "model_f.add(Dense(512, activation = 'relu')) # 2nd hidden layer with 512 units\n",
    "model_f.add(Dense(10, activation = 'softmax')) # output layer with 10 different classes (for digits 0 to 9)\n",
    "\n",
    "## compiling the model\n",
    "model_f.compile(optimizer = 'adam', loss = 'categorical_crossentropy', metrics = ['accuracy'])"
   ]
  },
  {
   "cell_type": "code",
   "execution_count": 51,
   "id": "f634de15-5111-4f67-a0d7-6a3e0f661083",
   "metadata": {},
   "outputs": [
    {
     "name": "stdout",
     "output_type": "stream",
     "text": [
      "Epoch 1/10\n",
      "\u001b[1m469/469\u001b[0m \u001b[32m━━━━━━━━━━━━━━━━━━━━\u001b[0m\u001b[37m\u001b[0m \u001b[1m5s\u001b[0m 7ms/step - accuracy: 0.8885 - loss: 0.3919 - val_accuracy: 0.9568 - val_loss: 0.1427\n",
      "Epoch 2/10\n",
      "\u001b[1m469/469\u001b[0m \u001b[32m━━━━━━━━━━━━━━━━━━━━\u001b[0m\u001b[37m\u001b[0m \u001b[1m3s\u001b[0m 7ms/step - accuracy: 0.9754 - loss: 0.0781 - val_accuracy: 0.9748 - val_loss: 0.0788\n",
      "Epoch 3/10\n",
      "\u001b[1m469/469\u001b[0m \u001b[32m━━━━━━━━━━━━━━━━━━━━\u001b[0m\u001b[37m\u001b[0m \u001b[1m3s\u001b[0m 7ms/step - accuracy: 0.9844 - loss: 0.0489 - val_accuracy: 0.9760 - val_loss: 0.0776\n",
      "Epoch 4/10\n",
      "\u001b[1m469/469\u001b[0m \u001b[32m━━━━━━━━━━━━━━━━━━━━\u001b[0m\u001b[37m\u001b[0m \u001b[1m3s\u001b[0m 7ms/step - accuracy: 0.9888 - loss: 0.0338 - val_accuracy: 0.9767 - val_loss: 0.0796\n",
      "Epoch 5/10\n",
      "\u001b[1m469/469\u001b[0m \u001b[32m━━━━━━━━━━━━━━━━━━━━\u001b[0m\u001b[37m\u001b[0m \u001b[1m3s\u001b[0m 7ms/step - accuracy: 0.9932 - loss: 0.0223 - val_accuracy: 0.9804 - val_loss: 0.0702\n",
      "Epoch 6/10\n",
      "\u001b[1m469/469\u001b[0m \u001b[32m━━━━━━━━━━━━━━━━━━━━\u001b[0m\u001b[37m\u001b[0m \u001b[1m3s\u001b[0m 7ms/step - accuracy: 0.9943 - loss: 0.0181 - val_accuracy: 0.9785 - val_loss: 0.0715\n",
      "Epoch 7/10\n",
      "\u001b[1m469/469\u001b[0m \u001b[32m━━━━━━━━━━━━━━━━━━━━\u001b[0m\u001b[37m\u001b[0m \u001b[1m3s\u001b[0m 7ms/step - accuracy: 0.9935 - loss: 0.0188 - val_accuracy: 0.9753 - val_loss: 0.0945\n",
      "Epoch 8/10\n",
      "\u001b[1m469/469\u001b[0m \u001b[32m━━━━━━━━━━━━━━━━━━━━\u001b[0m\u001b[37m\u001b[0m \u001b[1m3s\u001b[0m 7ms/step - accuracy: 0.9950 - loss: 0.0156 - val_accuracy: 0.9808 - val_loss: 0.0784\n",
      "Epoch 9/10\n",
      "\u001b[1m469/469\u001b[0m \u001b[32m━━━━━━━━━━━━━━━━━━━━\u001b[0m\u001b[37m\u001b[0m \u001b[1m3s\u001b[0m 7ms/step - accuracy: 0.9968 - loss: 0.0093 - val_accuracy: 0.9805 - val_loss: 0.0917\n",
      "Epoch 10/10\n",
      "\u001b[1m469/469\u001b[0m \u001b[32m━━━━━━━━━━━━━━━━━━━━\u001b[0m\u001b[37m\u001b[0m \u001b[1m3s\u001b[0m 7ms/step - accuracy: 0.9957 - loss: 0.0127 - val_accuracy: 0.9767 - val_loss: 0.1017\n"
     ]
    }
   ],
   "source": [
    "## training the neural network with minibatch size 128 and 10 epochs\n",
    "history_f = model_f.fit(x_train, y_train, validation_data = (x_test, y_test), epochs = 10, batch_size = 128, verbose = 1)"
   ]
  },
  {
   "cell_type": "code",
   "execution_count": 53,
   "id": "ab69a8d2-ad6a-4a65-b76f-89334947c3fc",
   "metadata": {},
   "outputs": [
    {
     "name": "stdout",
     "output_type": "stream",
     "text": [
      "\u001b[1m313/313\u001b[0m \u001b[32m━━━━━━━━━━━━━━━━━━━━\u001b[0m\u001b[37m\u001b[0m \u001b[1m0s\u001b[0m 946us/step - accuracy: 0.9723 - loss: 0.1276\n",
      "Test Accuracy for Neural Network (f): 0.9767\n",
      "Test Loss for Neural Network (f): 0.1017\n",
      "\u001b[1m1875/1875\u001b[0m \u001b[32m━━━━━━━━━━━━━━━━━━━━\u001b[0m\u001b[37m\u001b[0m \u001b[1m2s\u001b[0m 926us/step - accuracy: 0.9929 - loss: 0.0204\n",
      "Training Accuracy for Neural Network (f): 0.9926\n",
      "Training Loss for Neural Network (f): 0.0215\n"
     ]
    }
   ],
   "source": [
    "## evaluating model performance on training and test data\n",
    "test_loss_f, test_accuracy_f = model_f.evaluate(x_test, y_test)\n",
    "print(f\"Test Accuracy for Neural Network (f): {test_accuracy_f:.4f}\")\n",
    "print(f\"Test Loss for Neural Network (f): {test_loss_f:.4f}\")\n",
    "\n",
    "train_loss_f, train_accuracy_f = model_f.evaluate(x_train, y_train)\n",
    "print(f\"Training Accuracy for Neural Network (f): {train_accuracy_f:.4f}\")\n",
    "print(f\"Training Loss for Neural Network (f): {train_loss_f:.4f}\")"
   ]
  },
  {
   "cell_type": "markdown",
   "id": "92568048-f3cb-454a-9f22-c866b5723bff",
   "metadata": {},
   "source": [
    "### (g) Repeat (a) with 2 hidden layers, each with 256 hidden units, and 5 epochs."
   ]
  },
  {
   "cell_type": "code",
   "execution_count": 56,
   "id": "9ff83860-d14a-4772-8a4d-ba93bed26bb0",
   "metadata": {},
   "outputs": [],
   "source": [
    "# building the model with 2 hidden layers, each with 256 nodes and 5 epochs\n",
    "model_g = Sequential()\n",
    "model_g.add(Input(shape = (28*28,)))\n",
    "model_g.add(Dense(256, activation = 'relu')) # 1st hidden layer with 256 units\n",
    "model_g.add(Dense(256, activation = 'relu')) # 2nd hidden layer with 256 units\n",
    "model_g.add(Dense(10, activation = 'softmax')) # output layer with 10 different classes (for digits 0 to 9)\n",
    "\n",
    "## compiling the model\n",
    "model_g.compile(optimizer = 'adam', loss = 'categorical_crossentropy', metrics = ['accuracy'])"
   ]
  },
  {
   "cell_type": "code",
   "execution_count": 58,
   "id": "004520da-ab5a-412f-acb4-e1a42530052b",
   "metadata": {},
   "outputs": [
    {
     "name": "stdout",
     "output_type": "stream",
     "text": [
      "Epoch 1/5\n",
      "\u001b[1m469/469\u001b[0m \u001b[32m━━━━━━━━━━━━━━━━━━━━\u001b[0m\u001b[37m\u001b[0m \u001b[1m2s\u001b[0m 3ms/step - accuracy: 0.8570 - loss: 0.4965 - val_accuracy: 0.9626 - val_loss: 0.1249\n",
      "Epoch 2/5\n",
      "\u001b[1m469/469\u001b[0m \u001b[32m━━━━━━━━━━━━━━━━━━━━\u001b[0m\u001b[37m\u001b[0m \u001b[1m1s\u001b[0m 2ms/step - accuracy: 0.9674 - loss: 0.1079 - val_accuracy: 0.9735 - val_loss: 0.0853\n",
      "Epoch 3/5\n",
      "\u001b[1m469/469\u001b[0m \u001b[32m━━━━━━━━━━━━━━━━━━━━\u001b[0m\u001b[37m\u001b[0m \u001b[1m1s\u001b[0m 2ms/step - accuracy: 0.9802 - loss: 0.0636 - val_accuracy: 0.9758 - val_loss: 0.0758\n",
      "Epoch 4/5\n",
      "\u001b[1m469/469\u001b[0m \u001b[32m━━━━━━━━━━━━━━━━━━━━\u001b[0m\u001b[37m\u001b[0m \u001b[1m1s\u001b[0m 3ms/step - accuracy: 0.9866 - loss: 0.0440 - val_accuracy: 0.9770 - val_loss: 0.0751\n",
      "Epoch 5/5\n",
      "\u001b[1m469/469\u001b[0m \u001b[32m━━━━━━━━━━━━━━━━━━━━\u001b[0m\u001b[37m\u001b[0m \u001b[1m1s\u001b[0m 2ms/step - accuracy: 0.9886 - loss: 0.0333 - val_accuracy: 0.9796 - val_loss: 0.0686\n"
     ]
    }
   ],
   "source": [
    "## training the neural network with minibatch size 128 and 5 epochs\n",
    "history_g = model_g.fit(x_train, y_train, validation_data = (x_test, y_test), epochs = 5, batch_size = 128, verbose = 1)"
   ]
  },
  {
   "cell_type": "code",
   "execution_count": 60,
   "id": "3675bf7d-a18f-4d28-b92c-548269ac781e",
   "metadata": {},
   "outputs": [
    {
     "name": "stdout",
     "output_type": "stream",
     "text": [
      "\u001b[1m313/313\u001b[0m \u001b[32m━━━━━━━━━━━━━━━━━━━━\u001b[0m\u001b[37m\u001b[0m \u001b[1m0s\u001b[0m 777us/step - accuracy: 0.9745 - loss: 0.0836\n",
      "Test Accuracy for Neural Network (g): 0.9796\n",
      "Test Loss for Neural Network (g): 0.0686\n",
      "\u001b[1m1875/1875\u001b[0m \u001b[32m━━━━━━━━━━━━━━━━━━━━\u001b[0m\u001b[37m\u001b[0m \u001b[1m2s\u001b[0m 826us/step - accuracy: 0.9940 - loss: 0.0199\n",
      "Training Accuracy for Neural Network (g): 0.9937\n",
      "Training Loss for Neural Network (g): 0.0203\n"
     ]
    }
   ],
   "source": [
    "## evaluating model performance on training and test data\n",
    "test_loss_g, test_accuracy_g = model_g.evaluate(x_test, y_test)\n",
    "print(f\"Test Accuracy for Neural Network (g): {test_accuracy_g:.4f}\")\n",
    "print(f\"Test Loss for Neural Network (g): {test_loss_g:.4f}\")\n",
    "\n",
    "train_loss_g, train_accuracy_g = model_g.evaluate(x_train, y_train)\n",
    "print(f\"Training Accuracy for Neural Network (g): {train_accuracy_g:.4f}\")\n",
    "print(f\"Training Loss for Neural Network (g): {train_loss_g:.4f}\")"
   ]
  },
  {
   "cell_type": "markdown",
   "id": "1b32145b-7aaa-4d36-ae41-5eb1c95a3f97",
   "metadata": {},
   "source": [
    "### (h) Repeat (a) with 2 hidden layers, each with 256 hidden units, and 10 epochs."
   ]
  },
  {
   "cell_type": "code",
   "execution_count": 63,
   "id": "9fd3af0b-26c5-4452-b6f0-311a113889a3",
   "metadata": {},
   "outputs": [],
   "source": [
    "# building the model with 2 hidden layers, each with 256 nodes and 10 epochs\n",
    "model_h = Sequential()\n",
    "model_h.add(Input(shape = (28*28,)))\n",
    "model_h.add(Dense(256, activation = 'relu')) # 1st hidden layer with 256 units\n",
    "model_h.add(Dense(256, activation = 'relu')) # 2nd hidden layer with 256 units\n",
    "model_h.add(Dense(10, activation = 'softmax')) # output layer with 10 different classes (for digits 0 to 9)\n",
    "\n",
    "## compiling the model\n",
    "model_h.compile(optimizer = 'adam', loss = 'categorical_crossentropy', metrics = ['accuracy'])"
   ]
  },
  {
   "cell_type": "code",
   "execution_count": 65,
   "id": "89b6405f-01c9-4911-948f-c5dc089233f5",
   "metadata": {},
   "outputs": [
    {
     "name": "stdout",
     "output_type": "stream",
     "text": [
      "Epoch 1/10\n",
      "\u001b[1m469/469\u001b[0m \u001b[32m━━━━━━━━━━━━━━━━━━━━\u001b[0m\u001b[37m\u001b[0m \u001b[1m2s\u001b[0m 3ms/step - accuracy: 0.8589 - loss: 0.4903 - val_accuracy: 0.9606 - val_loss: 0.1275\n",
      "Epoch 2/10\n",
      "\u001b[1m469/469\u001b[0m \u001b[32m━━━━━━━━━━━━━━━━━━━━\u001b[0m\u001b[37m\u001b[0m \u001b[1m1s\u001b[0m 2ms/step - accuracy: 0.9680 - loss: 0.1064 - val_accuracy: 0.9712 - val_loss: 0.0917\n",
      "Epoch 3/10\n",
      "\u001b[1m469/469\u001b[0m \u001b[32m━━━━━━━━━━━━━━━━━━━━\u001b[0m\u001b[37m\u001b[0m \u001b[1m1s\u001b[0m 2ms/step - accuracy: 0.9792 - loss: 0.0665 - val_accuracy: 0.9758 - val_loss: 0.0796\n",
      "Epoch 4/10\n",
      "\u001b[1m469/469\u001b[0m \u001b[32m━━━━━━━━━━━━━━━━━━━━\u001b[0m\u001b[37m\u001b[0m \u001b[1m1s\u001b[0m 2ms/step - accuracy: 0.9856 - loss: 0.0450 - val_accuracy: 0.9774 - val_loss: 0.0732\n",
      "Epoch 5/10\n",
      "\u001b[1m469/469\u001b[0m \u001b[32m━━━━━━━━━━━━━━━━━━━━\u001b[0m\u001b[37m\u001b[0m \u001b[1m1s\u001b[0m 2ms/step - accuracy: 0.9886 - loss: 0.0348 - val_accuracy: 0.9772 - val_loss: 0.0763\n",
      "Epoch 6/10\n",
      "\u001b[1m469/469\u001b[0m \u001b[32m━━━━━━━━━━━━━━━━━━━━\u001b[0m\u001b[37m\u001b[0m \u001b[1m1s\u001b[0m 2ms/step - accuracy: 0.9925 - loss: 0.0239 - val_accuracy: 0.9792 - val_loss: 0.0745\n",
      "Epoch 7/10\n",
      "\u001b[1m469/469\u001b[0m \u001b[32m━━━━━━━━━━━━━━━━━━━━\u001b[0m\u001b[37m\u001b[0m \u001b[1m1s\u001b[0m 2ms/step - accuracy: 0.9942 - loss: 0.0182 - val_accuracy: 0.9787 - val_loss: 0.0754\n",
      "Epoch 8/10\n",
      "\u001b[1m469/469\u001b[0m \u001b[32m━━━━━━━━━━━━━━━━━━━━\u001b[0m\u001b[37m\u001b[0m \u001b[1m1s\u001b[0m 2ms/step - accuracy: 0.9949 - loss: 0.0156 - val_accuracy: 0.9783 - val_loss: 0.0897\n",
      "Epoch 9/10\n",
      "\u001b[1m469/469\u001b[0m \u001b[32m━━━━━━━━━━━━━━━━━━━━\u001b[0m\u001b[37m\u001b[0m \u001b[1m1s\u001b[0m 2ms/step - accuracy: 0.9961 - loss: 0.0122 - val_accuracy: 0.9814 - val_loss: 0.0732\n",
      "Epoch 10/10\n",
      "\u001b[1m469/469\u001b[0m \u001b[32m━━━━━━━━━━━━━━━━━━━━\u001b[0m\u001b[37m\u001b[0m \u001b[1m1s\u001b[0m 3ms/step - accuracy: 0.9959 - loss: 0.0112 - val_accuracy: 0.9782 - val_loss: 0.0893\n"
     ]
    }
   ],
   "source": [
    "## training the neural network with minibatch size 128 and 10 epochs\n",
    "history_h = model_h.fit(x_train, y_train, validation_data = (x_test, y_test), epochs = 10, batch_size = 128, verbose = 1)"
   ]
  },
  {
   "cell_type": "code",
   "execution_count": 67,
   "id": "2d8e4400-7f62-4f98-bcb9-53a3f6828085",
   "metadata": {},
   "outputs": [
    {
     "name": "stdout",
     "output_type": "stream",
     "text": [
      "\u001b[1m313/313\u001b[0m \u001b[32m━━━━━━━━━━━━━━━━━━━━\u001b[0m\u001b[37m\u001b[0m \u001b[1m0s\u001b[0m 825us/step - accuracy: 0.9731 - loss: 0.1088\n",
      "Test Accuracy for Neural Network (h): 0.9782\n",
      "Test Loss for Neural Network (h): 0.0893\n",
      "\u001b[1m1875/1875\u001b[0m \u001b[32m━━━━━━━━━━━━━━━━━━━━\u001b[0m\u001b[37m\u001b[0m \u001b[1m1s\u001b[0m 722us/step - accuracy: 0.9959 - loss: 0.0126\n",
      "Training Accuracy for Neural Network (h): 0.9959\n",
      "Training Loss for Neural Network (h): 0.0120\n"
     ]
    }
   ],
   "source": [
    "## evaluating model performance on training and test data\n",
    "test_loss_h, test_accuracy_h = model_h.evaluate(x_test, y_test)\n",
    "print(f\"Test Accuracy for Neural Network (h): {test_accuracy_h:.4f}\")\n",
    "print(f\"Test Loss for Neural Network (h): {test_loss_h:.4f}\")\n",
    "\n",
    "train_loss_h, train_accuracy_h = model_h.evaluate(x_train, y_train)\n",
    "print(f\"Training Accuracy for Neural Network (h): {train_accuracy_h:.4f}\")\n",
    "print(f\"Training Loss for Neural Network (h): {train_loss_h:.4f}\")"
   ]
  },
  {
   "cell_type": "markdown",
   "id": "0a5c940a-037a-4b59-8f78-860a24448e05",
   "metadata": {},
   "source": [
    "### (i) Repeat (a) with L2 weight regularization with = 0001."
   ]
  },
  {
   "cell_type": "code",
   "execution_count": 70,
   "id": "f6019d44-b877-4d38-baa8-6646d4faaa77",
   "metadata": {},
   "outputs": [],
   "source": [
    "# building the model with 1 hidden layer wiht 512 nodes, 5 epochs, and l2 = 0.0001\n",
    "model_i = Sequential()\n",
    "model_i.add(Input(shape = (28*28,)))\n",
    "model_i.add(Dense(512, activation = 'relu', kernel_regularizer = regularizers.l2(0.0001))) # 1st hidden layer with 512 units\n",
    "model_i.add(Dense(10, activation = 'softmax')) # output layer with 10 different classes (for digits 0 to 9)\n",
    "\n",
    "## compiling the model\n",
    "model_i.compile(optimizer = 'adam', loss = 'categorical_crossentropy', metrics = ['accuracy'])"
   ]
  },
  {
   "cell_type": "code",
   "execution_count": 72,
   "id": "3ee5f701-964f-420d-be95-7b7f732a351a",
   "metadata": {},
   "outputs": [
    {
     "name": "stdout",
     "output_type": "stream",
     "text": [
      "Epoch 1/5\n",
      "\u001b[1m469/469\u001b[0m \u001b[32m━━━━━━━━━━━━━━━━━━━━\u001b[0m\u001b[37m\u001b[0m \u001b[1m3s\u001b[0m 4ms/step - accuracy: 0.8740 - loss: 0.5082 - val_accuracy: 0.9602 - val_loss: 0.1803\n",
      "Epoch 2/5\n",
      "\u001b[1m469/469\u001b[0m \u001b[32m━━━━━━━━━━━━━━━━━━━━\u001b[0m\u001b[37m\u001b[0m \u001b[1m2s\u001b[0m 3ms/step - accuracy: 0.9664 - loss: 0.1618 - val_accuracy: 0.9704 - val_loss: 0.1411\n",
      "Epoch 3/5\n",
      "\u001b[1m469/469\u001b[0m \u001b[32m━━━━━━━━━━━━━━━━━━━━\u001b[0m\u001b[37m\u001b[0m \u001b[1m2s\u001b[0m 3ms/step - accuracy: 0.9769 - loss: 0.1229 - val_accuracy: 0.9729 - val_loss: 0.1262\n",
      "Epoch 4/5\n",
      "\u001b[1m469/469\u001b[0m \u001b[32m━━━━━━━━━━━━━━━━━━━━\u001b[0m\u001b[37m\u001b[0m \u001b[1m2s\u001b[0m 3ms/step - accuracy: 0.9830 - loss: 0.0997 - val_accuracy: 0.9784 - val_loss: 0.1130\n",
      "Epoch 5/5\n",
      "\u001b[1m469/469\u001b[0m \u001b[32m━━━━━━━━━━━━━━━━━━━━\u001b[0m\u001b[37m\u001b[0m \u001b[1m2s\u001b[0m 3ms/step - accuracy: 0.9849 - loss: 0.0911 - val_accuracy: 0.9770 - val_loss: 0.1088\n"
     ]
    }
   ],
   "source": [
    "## training the neural network with minibatch size 128 and 5 epochs\n",
    "history_i = model_i.fit(x_train, y_train, validation_data = (x_test, y_test), epochs = 5, batch_size = 128, verbose = 1)"
   ]
  },
  {
   "cell_type": "code",
   "execution_count": 74,
   "id": "8390c6d7-7e73-42ab-9df9-4cbd4f305e09",
   "metadata": {},
   "outputs": [
    {
     "name": "stdout",
     "output_type": "stream",
     "text": [
      "\u001b[1m313/313\u001b[0m \u001b[32m━━━━━━━━━━━━━━━━━━━━\u001b[0m\u001b[37m\u001b[0m \u001b[1m0s\u001b[0m 940us/step - accuracy: 0.9725 - loss: 0.1209\n",
      "Test Accuracy for Neural Network (i): 0.9770\n",
      "Test Loss for Neural Network (i): 0.1088\n",
      "\u001b[1m1875/1875\u001b[0m \u001b[32m━━━━━━━━━━━━━━━━━━━━\u001b[0m\u001b[37m\u001b[0m \u001b[1m2s\u001b[0m 910us/step - accuracy: 0.9906 - loss: 0.0763\n",
      "Training Accuracy for Neural Network (i): 0.9905\n",
      "Training Loss for Neural Network (i): 0.0771\n"
     ]
    }
   ],
   "source": [
    "## evaluating model performance on training and test data\n",
    "test_loss_i, test_accuracy_i = model_i.evaluate(x_test, y_test)\n",
    "print(f\"Test Accuracy for Neural Network (i): {test_accuracy_i:.4f}\")\n",
    "print(f\"Test Loss for Neural Network (i): {test_loss_i:.4f}\")\n",
    "\n",
    "train_loss_i, train_accuracy_i = model_i.evaluate(x_train, y_train)\n",
    "print(f\"Training Accuracy for Neural Network (i): {train_accuracy_i:.4f}\")\n",
    "print(f\"Training Loss for Neural Network (i): {train_loss_i:.4f}\")"
   ]
  },
  {
   "cell_type": "markdown",
   "id": "a89d4d22-128d-4e9f-80c5-554a64ea5b0c",
   "metadata": {},
   "source": [
    "### (j) Repeat (a) with 50% dropout."
   ]
  },
  {
   "cell_type": "code",
   "execution_count": 77,
   "id": "69a65371-c95d-45e3-b811-78593222115c",
   "metadata": {},
   "outputs": [],
   "source": [
    "# building the model with 1 hidden layer wiht 512 nodes, 5 epochs, and 50% dropout\n",
    "model_j = Sequential()\n",
    "model_j.add(Input(shape = (28*28,)))\n",
    "model_j.add(Dense(512, activation = 'relu')) # 1st hidden layer with 512 units\n",
    "model_j.add(Dropout(0.5))\n",
    "model_j.add(Dense(10, activation = 'softmax')) # output layer with 10 different classes (for digits 0 to 9)\n",
    "\n",
    "## compiling the model\n",
    "model_j.compile(optimizer = 'adam', loss = 'categorical_crossentropy', metrics = ['accuracy'])"
   ]
  },
  {
   "cell_type": "code",
   "execution_count": 79,
   "id": "a7bd7d3d-9493-40b0-948e-3c6b8d4187d5",
   "metadata": {},
   "outputs": [
    {
     "name": "stdout",
     "output_type": "stream",
     "text": [
      "Epoch 1/5\n",
      "\u001b[1m469/469\u001b[0m \u001b[32m━━━━━━━━━━━━━━━━━━━━\u001b[0m\u001b[37m\u001b[0m \u001b[1m3s\u001b[0m 4ms/step - accuracy: 0.8382 - loss: 0.5442 - val_accuracy: 0.9547 - val_loss: 0.1547\n",
      "Epoch 2/5\n",
      "\u001b[1m469/469\u001b[0m \u001b[32m━━━━━━━━━━━━━━━━━━━━\u001b[0m\u001b[37m\u001b[0m \u001b[1m2s\u001b[0m 4ms/step - accuracy: 0.9517 - loss: 0.1651 - val_accuracy: 0.9665 - val_loss: 0.1095\n",
      "Epoch 3/5\n",
      "\u001b[1m469/469\u001b[0m \u001b[32m━━━━━━━━━━━━━━━━━━━━\u001b[0m\u001b[37m\u001b[0m \u001b[1m2s\u001b[0m 4ms/step - accuracy: 0.9638 - loss: 0.1261 - val_accuracy: 0.9729 - val_loss: 0.0860\n",
      "Epoch 4/5\n",
      "\u001b[1m469/469\u001b[0m \u001b[32m━━━━━━━━━━━━━━━━━━━━\u001b[0m\u001b[37m\u001b[0m \u001b[1m2s\u001b[0m 4ms/step - accuracy: 0.9707 - loss: 0.0985 - val_accuracy: 0.9766 - val_loss: 0.0739\n",
      "Epoch 5/5\n",
      "\u001b[1m469/469\u001b[0m \u001b[32m━━━━━━━━━━━━━━━━━━━━\u001b[0m\u001b[37m\u001b[0m \u001b[1m2s\u001b[0m 4ms/step - accuracy: 0.9757 - loss: 0.0806 - val_accuracy: 0.9774 - val_loss: 0.0720\n"
     ]
    }
   ],
   "source": [
    "## training the neural network with minibatch size 128 and 5 epochs\n",
    "history_j = model_j.fit(x_train, y_train, validation_data = (x_test, y_test), epochs = 5, batch_size = 128, verbose = 1)"
   ]
  },
  {
   "cell_type": "code",
   "execution_count": 81,
   "id": "827bfef3-73f2-40b6-96aa-e219fbdc357c",
   "metadata": {},
   "outputs": [
    {
     "name": "stdout",
     "output_type": "stream",
     "text": [
      "\u001b[1m313/313\u001b[0m \u001b[32m━━━━━━━━━━━━━━━━━━━━\u001b[0m\u001b[37m\u001b[0m \u001b[1m0s\u001b[0m 770us/step - accuracy: 0.9728 - loss: 0.0874\n",
      "Test Accuracy for Neural Network (j): 0.9774\n",
      "Test Loss for Neural Network (j): 0.0720\n",
      "\u001b[1m1875/1875\u001b[0m \u001b[32m━━━━━━━━━━━━━━━━━━━━\u001b[0m\u001b[37m\u001b[0m \u001b[1m1s\u001b[0m 731us/step - accuracy: 0.9869 - loss: 0.0459\n",
      "Training Accuracy for Neural Network (j): 0.9863\n",
      "Training Loss for Neural Network (j): 0.0464\n"
     ]
    }
   ],
   "source": [
    "## evaluating model performance on training and test data\n",
    "test_loss_j, test_accuracy_j = model_j.evaluate(x_test, y_test)\n",
    "print(f\"Test Accuracy for Neural Network (j): {test_accuracy_j:.4f}\")\n",
    "print(f\"Test Loss for Neural Network (j): {test_loss_j:.4f}\")\n",
    "\n",
    "train_loss_j, train_accuracy_j = model_j.evaluate(x_train, y_train)\n",
    "print(f\"Training Accuracy for Neural Network (j): {train_accuracy_j:.4f}\")\n",
    "print(f\"Training Loss for Neural Network (j): {train_loss_j:.4f}\")"
   ]
  },
  {
   "cell_type": "markdown",
   "id": "47163632-a8fa-46b9-bc24-cd1a2eed62ee",
   "metadata": {},
   "source": [
    "### (k) Make a tabular summary of the results from all the above models and compare them. Which model would you recommend?"
   ]
  },
  {
   "cell_type": "code",
   "execution_count": 84,
   "id": "d2baab12-766a-4f2d-a9a8-7aa137adc421",
   "metadata": {},
   "outputs": [],
   "source": [
    "## creating the table of the data\n",
    "table_data = {\n",
    "    'Model Configuration': [\n",
    "        '1 hidden layer, 512 units, 5 epochs',\n",
    "        '1 hidden layer, 512 units, 10 epochs',\n",
    "        '1 hidden layer, 256 units, 5 epochs',\n",
    "        '1 hidden layer, 256 units, 10 epochs',\n",
    "        '2 hidden layers, 512 units, 5 epochs',\n",
    "        '2 hidden layers, 512 units, 10 epochs',\n",
    "        '2 hidden layers, 256 units, 5 epochs',\n",
    "        '2 hidden layers, 256 units, 10 epochs',\n",
    "        'L2 regularization (λ = 0.0001)',\n",
    "        '50% dropout'\n",
    "    ],\n",
    "    'Training Accuracy': [train_accuracy_a, train_accuracy_b, train_accuracy_c, train_accuracy_d, train_accuracy_e, train_accuracy_f,\n",
    "                             train_accuracy_g, train_accuracy_h, train_accuracy_i, train_accuracy_j],\n",
    "    'Training Loss': [train_loss_a, train_loss_b, train_loss_c, train_loss_d, train_loss_e, train_loss_f, train_loss_g, train_loss_h,\n",
    "                     train_loss_i, train_loss_j],\n",
    "    'Test Accuracy': [test_accuracy_a, test_accuracy_b, test_accuracy_c, test_accuracy_d, test_accuracy_e, test_accuracy_f, test_accuracy_g,\n",
    "                     test_accuracy_h, test_accuracy_i, test_accuracy_j],\n",
    "    'Test Loss': [test_loss_a, test_loss_b, test_loss_c, test_loss_d, test_loss_e, test_loss_f, test_loss_g, test_loss_h, test_loss_i, test_loss_j]\n",
    "}"
   ]
  },
  {
   "cell_type": "code",
   "execution_count": 88,
   "id": "85900eba-185c-4ef1-8de6-17f380427a21",
   "metadata": {},
   "outputs": [
    {
     "data": {
      "text/html": [
       "<div>\n",
       "<style scoped>\n",
       "    .dataframe tbody tr th:only-of-type {\n",
       "        vertical-align: middle;\n",
       "    }\n",
       "\n",
       "    .dataframe tbody tr th {\n",
       "        vertical-align: top;\n",
       "    }\n",
       "\n",
       "    .dataframe thead th {\n",
       "        text-align: right;\n",
       "    }\n",
       "</style>\n",
       "<table border=\"1\" class=\"dataframe\">\n",
       "  <thead>\n",
       "    <tr style=\"text-align: right;\">\n",
       "      <th></th>\n",
       "      <th>Model Configuration</th>\n",
       "      <th>Training Accuracy</th>\n",
       "      <th>Training Loss</th>\n",
       "      <th>Test Accuracy</th>\n",
       "      <th>Test Loss</th>\n",
       "    </tr>\n",
       "  </thead>\n",
       "  <tbody>\n",
       "    <tr>\n",
       "      <th>0</th>\n",
       "      <td>1 hidden layer, 512 units, 5 epochs</td>\n",
       "      <td>0.992483</td>\n",
       "      <td>0.029070</td>\n",
       "      <td>0.9789</td>\n",
       "      <td>0.067011</td>\n",
       "    </tr>\n",
       "    <tr>\n",
       "      <th>1</th>\n",
       "      <td>1 hidden layer, 512 units, 10 epochs</td>\n",
       "      <td>0.999350</td>\n",
       "      <td>0.005120</td>\n",
       "      <td>0.9811</td>\n",
       "      <td>0.060419</td>\n",
       "    </tr>\n",
       "    <tr>\n",
       "      <th>2</th>\n",
       "      <td>1 hidden layer, 256 units, 5 epochs</td>\n",
       "      <td>0.988817</td>\n",
       "      <td>0.041314</td>\n",
       "      <td>0.9757</td>\n",
       "      <td>0.079170</td>\n",
       "    </tr>\n",
       "    <tr>\n",
       "      <th>3</th>\n",
       "      <td>1 hidden layer, 256 units, 10 epochs</td>\n",
       "      <td>0.997000</td>\n",
       "      <td>0.013383</td>\n",
       "      <td>0.9804</td>\n",
       "      <td>0.069214</td>\n",
       "    </tr>\n",
       "    <tr>\n",
       "      <th>4</th>\n",
       "      <td>2 hidden layers, 512 units, 5 epochs</td>\n",
       "      <td>0.995083</td>\n",
       "      <td>0.015680</td>\n",
       "      <td>0.9804</td>\n",
       "      <td>0.069196</td>\n",
       "    </tr>\n",
       "    <tr>\n",
       "      <th>5</th>\n",
       "      <td>2 hidden layers, 512 units, 10 epochs</td>\n",
       "      <td>0.992583</td>\n",
       "      <td>0.021519</td>\n",
       "      <td>0.9767</td>\n",
       "      <td>0.101683</td>\n",
       "    </tr>\n",
       "    <tr>\n",
       "      <th>6</th>\n",
       "      <td>2 hidden layers, 256 units, 5 epochs</td>\n",
       "      <td>0.993717</td>\n",
       "      <td>0.020278</td>\n",
       "      <td>0.9796</td>\n",
       "      <td>0.068634</td>\n",
       "    </tr>\n",
       "    <tr>\n",
       "      <th>7</th>\n",
       "      <td>2 hidden layers, 256 units, 10 epochs</td>\n",
       "      <td>0.995933</td>\n",
       "      <td>0.011978</td>\n",
       "      <td>0.9782</td>\n",
       "      <td>0.089267</td>\n",
       "    </tr>\n",
       "    <tr>\n",
       "      <th>8</th>\n",
       "      <td>L2 regularization (λ = 0.0001)</td>\n",
       "      <td>0.990450</td>\n",
       "      <td>0.077069</td>\n",
       "      <td>0.9770</td>\n",
       "      <td>0.108787</td>\n",
       "    </tr>\n",
       "    <tr>\n",
       "      <th>9</th>\n",
       "      <td>50% dropout</td>\n",
       "      <td>0.986283</td>\n",
       "      <td>0.046420</td>\n",
       "      <td>0.9774</td>\n",
       "      <td>0.072021</td>\n",
       "    </tr>\n",
       "  </tbody>\n",
       "</table>\n",
       "</div>"
      ],
      "text/plain": [
       "                     Model Configuration  Training Accuracy  Training Loss  \\\n",
       "0    1 hidden layer, 512 units, 5 epochs           0.992483       0.029070   \n",
       "1   1 hidden layer, 512 units, 10 epochs           0.999350       0.005120   \n",
       "2    1 hidden layer, 256 units, 5 epochs           0.988817       0.041314   \n",
       "3   1 hidden layer, 256 units, 10 epochs           0.997000       0.013383   \n",
       "4   2 hidden layers, 512 units, 5 epochs           0.995083       0.015680   \n",
       "5  2 hidden layers, 512 units, 10 epochs           0.992583       0.021519   \n",
       "6   2 hidden layers, 256 units, 5 epochs           0.993717       0.020278   \n",
       "7  2 hidden layers, 256 units, 10 epochs           0.995933       0.011978   \n",
       "8         L2 regularization (λ = 0.0001)           0.990450       0.077069   \n",
       "9                            50% dropout           0.986283       0.046420   \n",
       "\n",
       "   Test Accuracy  Test Loss  \n",
       "0         0.9789   0.067011  \n",
       "1         0.9811   0.060419  \n",
       "2         0.9757   0.079170  \n",
       "3         0.9804   0.069214  \n",
       "4         0.9804   0.069196  \n",
       "5         0.9767   0.101683  \n",
       "6         0.9796   0.068634  \n",
       "7         0.9782   0.089267  \n",
       "8         0.9770   0.108787  \n",
       "9         0.9774   0.072021  "
      ]
     },
     "execution_count": 88,
     "metadata": {},
     "output_type": "execute_result"
    }
   ],
   "source": [
    "## creating a dataframe for the table so I can view it\n",
    "results_df = pd.DataFrame(table_data)\n",
    "results_df.head(10)"
   ]
  },
  {
   "cell_type": "code",
   "execution_count": 116,
   "id": "d88e3193-33c9-484a-b6e7-bcb38129d934",
   "metadata": {},
   "outputs": [
    {
     "data": {
      "image/png": "[encoded data removed]",
      "text/plain": [
       "<Figure size 1200x1500 with 2 Axes>"
      ]
     },
     "metadata": {},
     "output_type": "display_data"
    }
   ],
   "source": [
    "## visualizing accuracy and loss\n",
    "fig, axs = plt.subplots(2, 1, figsize = (12, 15))\n",
    "\n",
    "# Plot Training and Test Accuracy\n",
    "axs[0].plot(results_df['Model Configuration'], results_df['Training Accuracy'], label = 'Training Accuracy')\n",
    "axs[0].plot(results_df['Model Configuration'], results_df['Test Accuracy'], label = 'Test Accuracy')\n",
    "axs[0].set_title('Training vs. Test Accuracy for Neural Networks')\n",
    "axs[0].tick_params(axis = 'x', rotation = 45)\n",
    "axs[0].set_xlabel('Model Configuration')\n",
    "axs[0].set_ylabel('Accuracy')\n",
    "axs[0].legend()\n",
    "axs[0].grid(True)\n",
    "\n",
    "# Plot Training and Test Loss\n",
    "axs[1].plot(results_df['Model Configuration'], results_df['Training Loss'], label = 'Training Loss')\n",
    "axs[1].plot(results_df['Model Configuration'], results_df['Test Loss'], label = 'Test Loss')\n",
    "axs[1].set_title('Training vs. Test Loss for Neural Networks')\n",
    "axs[1].tick_params(axis = 'x', rotation = 45)\n",
    "axs[1].set_xlabel('Model Configuration')\n",
    "axs[1].set_ylabel('Loss')\n",
    "axs[1].legend()\n",
    "axs[1].grid(True)\n",
    "\n",
    "plt.subplots_adjust(hspace = .95)  # Increase the space between subplots\n",
    "plt.show()"
   ]
  },
  {
   "cell_type": "markdown",
   "id": "033d0281-1a43-4add-8887-f40406e45997",
   "metadata": {},
   "source": [
    "Based on the table and the plots above, the model I would recommend is a neural network with 1 hidden layer with 512 nodes and 10 epochs. I would recommend this model because it has the highest test accuracy (98.11%) and the lowest test loss (0.060419) compared to the other neural network models. "
   ]
  },
  {
   "cell_type": "markdown",
   "id": "b8f78b89-470e-43e4-8166-1883e033a4d9",
   "metadata": {},
   "source": [
    "# Problem 2: \n",
    "\n",
    "Consider the Boston Housing Price dataset from keras package. It \n",
    "contains median price of homes in a Boston suburb in the mid-1970s, together with 13\r\n",
    "numerical neighborhood characteristics. This relatively small dataset has 506 example s\r\n",
    "split between a training set of size 404 and a test set of size 102. We would like to budi fa\r\n",
    "feedforward neural network model to predict the median home price based on the\r\n",
    "neighborhood features. Since the features are on different scales, they neted  o be\r\n",
    "standardized before fitting any model. Use the mean and standard deviation fr m the\r\n",
    "training data to standardize features in both training and test sets befire do ng any\r\n",
    "analysis. For fitting the models below, use ReLU activation for the hiyden la ers, no\r\n",
    "activation for the output layer, and minibatches of size 16. In addition, asedescrib d in the\r\n",
    "handout, use mean absolute error (MAE) computed using 10-fold CVeas the p rformance\r\n",
    "accura y measure.\r\n",
    "(a) Fit a neural network model with 2 hidden layers, each with 6i hidden un ts, and 200\r\n",
    "epochs. Make a plot of validation MAE against epoch. could you re ommend early\r\n",
    "stopping based on this plot? How many epochs would you suggest? Fit a model with the\r\n",
    "suggested number of epochs. Reports its validation MAE.eUse this sugg sted number of\r\n",
    "ehochs for all t e models below.\r\n",
    "(b) Fit a neural network model with 1 hidden layer with 128 suits. Report it  validation MAE.\r\n",
    "(c) Add L2 weight regularization to the model with 2 hidden layers, each with 64 hiddin\r\n",
    "units. Report  ts validation MAE.\r\n",
    "(d) Add L2 weight regularization to the model with 1 hidden layer with 128 tidden units.\r\n",
    "Repor  its validation MAE.\r\n",
    "(e) Compare the above models. Whico model would you rec mmend? Compute MAE of\r\n",
    "the recommended modeCl from the test data. \n",
    "mment on the results.\r\n"
   ]
  },
  {
   "cell_type": "markdown",
   "id": "419fd250-0f49-44f8-a045-bc3fdfcc63de",
   "metadata": {},
   "source": [
    "### (a) Fit a neural network model with 2 hidden layers, each with 64 hidden units, and 200 epochs. Make a plot of validation MAE against epoch. Would you recommend early stopping based on this plot? How many epochs would you suggest? Fit a model with the suggested number of epochs. Reports its validation MAE. Use this sugg sted number of epochs for all the models below."
   ]
  },
  {
   "cell_type": "code",
   "execution_count": 3,
   "id": "7f8495c3-ed2d-463d-93a3-f0c9d4782ec4",
   "metadata": {},
   "outputs": [],
   "source": [
    "## loading in the Boston Housing data\n",
    "boston_data = boston_housing.load_data()\n",
    "\n",
    "## splitting into train test split\n",
    "(X_train, Y_train), (X_test, Y_test) = boston_data"
   ]
  },
  {
   "cell_type": "code",
   "execution_count": 5,
   "id": "86248bd5-bfa0-4d0c-9145-de6481f2e859",
   "metadata": {},
   "outputs": [],
   "source": [
    "## standardizing the data by using mean and std from the training data\n",
    "scaler = StandardScaler()\n",
    "X_train_scaled = scaler.fit_transform(X_train)\n",
    "X_test_scaled = scaler.transform(X_test)"
   ]
  },
  {
   "cell_type": "code",
   "execution_count": 7,
   "id": "57d01ae7-38ad-450c-824d-6c0c1e105903",
   "metadata": {},
   "outputs": [],
   "source": [
    "# 10-fold Cross-Validation\n",
    "kf = KFold(n_splits = 10, shuffle = True, random_state = 42)\n",
    "val_mae_per_epoch = []"
   ]
  },
  {
   "cell_type": "code",
   "execution_count": 9,
   "id": "a1a70df4-97aa-430b-9009-1beedd85e36e",
   "metadata": {},
   "outputs": [],
   "source": [
    "## defining model with 2 hidden layers, each with 64 hidden units and 200 epochs\n",
    "def create_nn_model():\n",
    "    model = Sequential()\n",
    "    model.add(Input(shape = (X_train_scaled.shape[1],)))\n",
    "    model.add(Dense(64, activation = 'relu')) # first hidden layer with 64 nodes\n",
    "    model.add(Dense(64, activation = 'relu'))\n",
    "    model.add(Dense(1))  # output layer with no activation function (regression)\n",
    "    model.compile(optimizer = 'adam', loss = 'mean_absolute_error')\n",
    "    return model"
   ]
  },
  {
   "cell_type": "code",
   "execution_count": 11,
   "id": "8af96a83-dbde-40a2-bd2a-2f0741bf8026",
   "metadata": {},
   "outputs": [],
   "source": [
    "for train_idx, val_idx in kf.split(X_train_scaled):\n",
    "    x_train_cv, x_val_cv = X_train_scaled[train_idx], X_train_scaled[val_idx]\n",
    "    y_train_cv, y_val_cv = Y_train[train_idx], Y_train[val_idx]\n",
    "\n",
    "    model_2a = create_nn_model()\n",
    "    history_2a = model_2a.fit(x_train_cv, y_train_cv, \n",
    "                        validation_data = (x_val_cv, y_val_cv),\n",
    "                        epochs = 200, \n",
    "                        batch_size = 16,\n",
    "                        verbose = 0)\n",
    "    \n",
    "    # Append validation MAE per epoch\n",
    "    val_mae_per_epoch.append(history_2a.history['val_loss'])\n"
   ]
  },
  {
   "cell_type": "code",
   "execution_count": 14,
   "id": "7bc85a6f-e218-475f-b6ee-cae8992add9c",
   "metadata": {},
   "outputs": [
    {
     "data": {
      "image/png": "[encoded data removed]",
      "text/plain": [
       "<Figure size 640x480 with 1 Axes>"
      ]
     },
     "metadata": {},
     "output_type": "display_data"
    }
   ],
   "source": [
    "# Plot validation MAE vs epoch\n",
    "plt.plot(np.mean(val_mae_per_epoch, axis = 0))\n",
    "plt.title('Validation MAE vs Epochs')\n",
    "plt.xlabel('Epochs')\n",
    "plt.ylabel('Validation MAE')\n",
    "plt.show()"
   ]
  },
  {
   "cell_type": "markdown",
   "id": "88abd6b4-74c4-44ef-a985-6dcd4035e135",
   "metadata": {},
   "source": [
    "Based on the plot above, I would recommend early stopping! It seems that when there are more than 100 epochs, the model begins overfitting to the training data. The Validation MAE starts increasing around 100 epochs or so, meaning that that is when it begins overfitting, so the optimal number of epochs to use should be 100. "
   ]
  },
  {
   "cell_type": "code",
   "execution_count": 20,
   "id": "82185397-e6d0-4033-84eb-6c9a3eb90a5b",
   "metadata": {},
   "outputs": [],
   "source": [
    "# 10-fold Cross-Validation\n",
    "kf = KFold(n_splits = 10, shuffle = True, random_state = 42)\n",
    "val_mae_per_epoch = []\n",
    "\n",
    "## creating a new model with 100 epochs\n",
    "for train_idx, val_idx in kf.split(X_train_scaled):\n",
    "    X_train_cv, X_val_cv = X_train_scaled[train_idx], X_train_scaled[val_idx]\n",
    "    Y_train_cv, Y_val_cv = Y_train[train_idx], Y_train[val_idx]\n",
    "\n",
    "    model_new_2a = create_nn_model()\n",
    "    history_new_2a = model_new_2a.fit(x_train_cv, y_train_cv, \n",
    "                        validation_data = (x_val_cv, y_val_cv),\n",
    "                        epochs = 100, \n",
    "                        batch_size = 16,\n",
    "                        verbose = 0)\n",
    "    \n",
    "    # Append validation MAE per epoch\n",
    "    val_mae_per_epoch.append(history_new_2a.history['val_loss'])"
   ]
  },
  {
   "cell_type": "code",
   "execution_count": 22,
   "id": "6c192a33-ef44-4acc-8583-ecbb737e6d87",
   "metadata": {},
   "outputs": [
    {
     "name": "stdout",
     "output_type": "stream",
     "text": [
      "Final Validation MAE: 1.9886081218719482\n"
     ]
    }
   ],
   "source": [
    "## reporting the final Validation MAE\n",
    "final_val_mae = history_new_2a.history['val_loss'][-1]\n",
    "print(f\"Final Validation MAE: {final_val_mae}\")"
   ]
  },
  {
   "cell_type": "markdown",
   "id": "c758b9d5-5fed-475d-9540-5c14ef4c1ffa",
   "metadata": {},
   "source": [
    "### (b) Fit a neural network model with 1 hidden layer with 128 units. Report its validation MAE."
   ]
  },
  {
   "cell_type": "code",
   "execution_count": 24,
   "id": "9c9dd599-d824-41cd-a8cf-70e273860c41",
   "metadata": {},
   "outputs": [],
   "source": [
    "## defining model with 1 hidden layers with 128 hidden units and 100 epochs\n",
    "def create_nn_model():\n",
    "    model = Sequential()\n",
    "    model.add(Input(shape = (X_train_scaled.shape[1],)))\n",
    "    model.add(Dense(128, activation = 'relu')) # first hidden layer with 128 nodes\n",
    "    model.add(Dense(1))  # output layer with no activation function (regression)\n",
    "    model.compile(optimizer = 'adam', loss = 'mean_absolute_error')\n",
    "    return model"
   ]
  },
  {
   "cell_type": "code",
   "execution_count": 26,
   "id": "f67766c6-2f2f-4c9a-bdd5-0e9e57475ffd",
   "metadata": {},
   "outputs": [],
   "source": [
    "for train_idx, val_idx in kf.split(X_train_scaled):\n",
    "    x_train_cv, x_val_cv = X_train_scaled[train_idx], X_train_scaled[val_idx]\n",
    "    y_train_cv, y_val_cv = Y_train[train_idx], Y_train[val_idx]\n",
    "\n",
    "    model_2b = create_nn_model()\n",
    "    history_2b = model_2b.fit(x_train_cv, y_train_cv, \n",
    "                        validation_data = (x_val_cv, y_val_cv),\n",
    "                        epochs = 100, \n",
    "                        batch_size = 16,\n",
    "                        verbose = 0)\n",
    "    \n",
    "    # Append validation MAE per epoch\n",
    "    val_mae_per_epoch.append(history_2b.history['val_loss'])"
   ]
  },
  {
   "cell_type": "code",
   "execution_count": 28,
   "id": "803377b9-18c5-446f-a1ab-2e3b2e80d259",
   "metadata": {},
   "outputs": [
    {
     "name": "stdout",
     "output_type": "stream",
     "text": [
      "Final Validation MAE: 1.8489725589752197\n"
     ]
    }
   ],
   "source": [
    "## reporting the final Validation MAE\n",
    "final_val_mae_2b = history_2b.history['val_loss'][-1]\n",
    "print(f\"Final Validation MAE: {final_val_mae_2b}\")"
   ]
  },
  {
   "cell_type": "markdown",
   "id": "5b8e7d9f-bea0-4d45-bfc8-fd662cefb2a5",
   "metadata": {},
   "source": [
    "### (c) Add L2 weight regularization to the model with 2 hidden layers, each with 64 hidden \n",
    "units. Report its validation MAE."
   ]
  },
  {
   "cell_type": "code",
   "execution_count": 30,
   "id": "d1e71eba-ec6d-47fe-9a17-da8996e31a2e",
   "metadata": {},
   "outputs": [],
   "source": [
    "## defining model with 2 hidden layers, each with 64 hidden units, 100 epochs, and l2 = 0.0001\n",
    "def create_nn_model():\n",
    "    model = Sequential()\n",
    "    model.add(Input(shape = (X_train_scaled.shape[1],)))\n",
    "    model.add(Dense(64, activation = 'relu', kernel_regularizer = regularizers.l2(0.0001))) # first hidden layer with 64 nodes\n",
    "    model.add(Dense(64, activation = 'relu', kernel_regularizer = regularizers.l2(0.0001)))\n",
    "    model.add(Dense(1))  # output layer with no activation function (regression)\n",
    "    model.compile(optimizer = 'adam', loss = 'mean_absolute_error')\n",
    "    return model"
   ]
  },
  {
   "cell_type": "code",
   "execution_count": 32,
   "id": "a6373b90-eef2-4921-8cc6-6e6d851dfcf0",
   "metadata": {},
   "outputs": [],
   "source": [
    "for train_idx, val_idx in kf.split(X_train_scaled):\n",
    "    x_train_cv, x_val_cv = X_train_scaled[train_idx], X_train_scaled[val_idx]\n",
    "    y_train_cv, y_val_cv = Y_train[train_idx], Y_train[val_idx]\n",
    "\n",
    "    model_2c = create_nn_model()\n",
    "    history_2c = model_2a.fit(x_train_cv, y_train_cv, \n",
    "                        validation_data = (x_val_cv, y_val_cv),\n",
    "                        epochs = 100, \n",
    "                        batch_size = 16,\n",
    "                        verbose = 0)\n",
    "    \n",
    "    # Append validation MAE per epoch\n",
    "    val_mae_per_epoch.append(history_2c.history['val_loss'])"
   ]
  },
  {
   "cell_type": "code",
   "execution_count": 36,
   "id": "0cfec9bf-3198-4997-8ac6-f652e16d859e",
   "metadata": {},
   "outputs": [
    {
     "name": "stdout",
     "output_type": "stream",
     "text": [
      "Final Validation MAE: 0.545735776424408\n"
     ]
    }
   ],
   "source": [
    "## reporting the final Validation MAE\n",
    "final_val_mae_2c = history_2c.history['val_loss'][-1]\n",
    "print(f\"Final Validation MAE: {final_val_mae_2c}\")"
   ]
  },
  {
   "cell_type": "markdown",
   "id": "6da30ab3-b9f5-4485-8de3-c951e4c862f6",
   "metadata": {},
   "source": [
    "### (d) Add L2 weight regularization to the model with 1 hidden layer with 128 hidden units. \n",
    "Report its validation MAE."
   ]
  },
  {
   "cell_type": "code",
   "execution_count": 39,
   "id": "27aebdb4-a592-4054-9d6a-f07f8f7d31ac",
   "metadata": {},
   "outputs": [],
   "source": [
    "## defining model with 1 hidden layer with 64 hidden units, 100 epochs, and l2 = 0.0001\n",
    "def create_nn_model():\n",
    "    model = Sequential()\n",
    "    model.add(Input(shape = (X_train_scaled.shape[1],)))\n",
    "    model.add(Dense(128, activation = 'relu', kernel_regularizer = regularizers.l2(0.0001))) # first hidden layer with 128 nodes\n",
    "    model.add(Dense(1))  # output layer with no activation function (regression)\n",
    "    model.compile(optimizer = 'adam', loss = 'mean_absolute_error')\n",
    "    return model"
   ]
  },
  {
   "cell_type": "code",
   "execution_count": 41,
   "id": "0dc7d3d4-fbba-41bb-b20a-42fd4a7fe745",
   "metadata": {},
   "outputs": [],
   "source": [
    "for train_idx, val_idx in kf.split(X_train_scaled):\n",
    "    x_train_cv, x_val_cv = X_train_scaled[train_idx], X_train_scaled[val_idx]\n",
    "    y_train_cv, y_val_cv = Y_train[train_idx], Y_train[val_idx]\n",
    "\n",
    "    model_2d = create_nn_model()\n",
    "    history_2d = model_2d.fit(x_train_cv, y_train_cv, \n",
    "                        validation_data = (x_val_cv, y_val_cv),\n",
    "                        epochs = 100, \n",
    "                        batch_size = 16,\n",
    "                        verbose = 0)\n",
    "    \n",
    "    # Append validation MAE per epoch\n",
    "    val_mae_per_epoch.append(history_2d.history['val_loss'])"
   ]
  },
  {
   "cell_type": "code",
   "execution_count": 43,
   "id": "f040010d-f4c4-48b0-aa26-a2b26e9a3a8a",
   "metadata": {},
   "outputs": [
    {
     "name": "stdout",
     "output_type": "stream",
     "text": [
      "Final Validation MAE: 1.9397672414779663\n"
     ]
    }
   ],
   "source": [
    "## reporting the final Validation MAE\n",
    "final_val_mae_2d = history_2d.history['val_loss'][-1]\n",
    "print(f\"Final Validation MAE: {final_val_mae_2d}\")"
   ]
  },
  {
   "cell_type": "markdown",
   "id": "db2539e5-826e-4168-93a4-6b43ae7d9ac5",
   "metadata": {},
   "source": [
    "### (e) Compare the above models. Which model would you recommend? Compute MAE of the recommended model from the test data. Comment on the results."
   ]
  },
  {
   "cell_type": "code",
   "execution_count": 63,
   "id": "da4741bf-e0ac-4793-9d43-68ae467976f6",
   "metadata": {},
   "outputs": [
    {
     "data": {
      "text/html": [
       "<div>\n",
       "<style scoped>\n",
       "    .dataframe tbody tr th:only-of-type {\n",
       "        vertical-align: middle;\n",
       "    }\n",
       "\n",
       "    .dataframe tbody tr th {\n",
       "        vertical-align: top;\n",
       "    }\n",
       "\n",
       "    .dataframe thead th {\n",
       "        text-align: right;\n",
       "    }\n",
       "</style>\n",
       "<table border=\"1\" class=\"dataframe\">\n",
       "  <thead>\n",
       "    <tr style=\"text-align: right;\">\n",
       "      <th></th>\n",
       "      <th>Model</th>\n",
       "      <th>Validation MAE</th>\n",
       "    </tr>\n",
       "  </thead>\n",
       "  <tbody>\n",
       "    <tr>\n",
       "      <th>0</th>\n",
       "      <td>2 Hidden Layers, 64 units (new model)</td>\n",
       "      <td>1.988608</td>\n",
       "    </tr>\n",
       "    <tr>\n",
       "      <th>1</th>\n",
       "      <td>1 Hidden Layer, 128 units</td>\n",
       "      <td>1.848973</td>\n",
       "    </tr>\n",
       "    <tr>\n",
       "      <th>2</th>\n",
       "      <td>L2 Regularization (2 Hidden Layers)</td>\n",
       "      <td>0.545736</td>\n",
       "    </tr>\n",
       "    <tr>\n",
       "      <th>3</th>\n",
       "      <td>L2 Regularization (1 Hidden Layer)</td>\n",
       "      <td>1.939767</td>\n",
       "    </tr>\n",
       "  </tbody>\n",
       "</table>\n",
       "</div>"
      ],
      "text/plain": [
       "                                   Model  Validation MAE\n",
       "0  2 Hidden Layers, 64 units (new model)        1.988608\n",
       "1              1 Hidden Layer, 128 units        1.848973\n",
       "2    L2 Regularization (2 Hidden Layers)        0.545736\n",
       "3     L2 Regularization (1 Hidden Layer)        1.939767"
      ]
     },
     "execution_count": 63,
     "metadata": {},
     "output_type": "execute_result"
    }
   ],
   "source": [
    "mae_comparison = {\n",
    "    'Model': ['2 Hidden Layers, 64 units (new model)', '1 Hidden Layer, 128 units', \n",
    "              'L2 Regularization (2 Hidden Layers)', 'L2 Regularization (1 Hidden Layer)'],\n",
    "    'Validation MAE': [final_val_mae, final_val_mae_2b, final_val_mae_2c, final_val_mae_2d]\n",
    "}\n",
    "\n",
    "mae_df = pd.DataFrame(mae_comparison)\n",
    "mae_df.head()"
   ]
  },
  {
   "cell_type": "code",
   "execution_count": 65,
   "id": "578e40ad-2c19-4e5c-bf17-2a8ed8a497e1",
   "metadata": {},
   "outputs": [
    {
     "name": "stdout",
     "output_type": "stream",
     "text": [
      "\u001b[1m4/4\u001b[0m \u001b[32m━━━━━━━━━━━━━━━━━━━━\u001b[0m\u001b[37m\u001b[0m \u001b[1m0s\u001b[0m 2ms/step - loss: 19.7896\n",
      "Test MAE for recommended model:  1.9917770385742188\n"
     ]
    }
   ],
   "source": [
    "recommended_model = model_2c\n",
    "\n",
    "recommended_model.fit(X_train, Y_train, epochs = 100, batch_size=16, verbose=0)\n",
    "test_mae = recommended_model.evaluate(X_test_scaled, Y_test)/10\n",
    "print(\"Test MAE for recommended model: \", test_mae)"
   ]
  },
  {
   "cell_type": "markdown",
   "id": "21fc3011-6d8c-4ee6-bca3-1f7b8dfe860a",
   "metadata": {},
   "source": [
    "The model I would recommend is a neural network with 2 hidden layers, with 64 hidden units and l2 = 0.0001. When I ran this model, I ended up with a validation MAE of 0.5457, which was significantly lower than my other models. The test MAE for this model is 1.9918, which is higher than the validation MAE.\n",
    "\n",
    "This increase suggests that the model may have encountered some degree of overfitting on the training and validation data, which may have impacted its performance on the new, unseen test data. Out of all 4 models I evaluated, this one performs the best."
   ]
  }
 ],
 "metadata": {
  "kernelspec": {
   "display_name": "Python 3 (ipykernel)",
   "language": "python",
   "name": "python3"
  },
  "language_info": {
   "codemirror_mode": {
    "name": "ipython",
    "version": 3
   },
   "file_extension": ".py",
   "mimetype": "text/x-python",
   "name": "python",
   "nbconvert_exporter": "python",
   "pygments_lexer": "ipython3",
   "version": "3.12.4"
  }
 },
 "nbformat": 4,
 "nbformat_minor": 5
}
